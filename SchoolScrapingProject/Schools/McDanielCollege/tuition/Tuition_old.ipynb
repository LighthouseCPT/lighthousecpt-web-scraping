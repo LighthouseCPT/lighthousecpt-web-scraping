{
 "cells": [
  {
   "cell_type": "code",
   "execution_count": 1,
   "id": "3fcf9021-abf9-41a9-b258-d620d92bcfe4",
   "metadata": {
    "ExecuteTime": {
     "end_time": "2024-04-03T17:02:30.538728Z",
     "start_time": "2024-04-03T17:02:30.234930Z"
    }
   },
   "outputs": [],
   "source": [
    "import requests\n",
    "from bs4 import BeautifulSoup\n",
    "import pandas as pd\n",
    "import os\n",
    "pd.set_option('display.max_columns', None)\n",
    "pd.set_option('display.max_colwidth', None)\n",
    "TABLE = 'Tuition'"
   ]
  },
  {
   "cell_type": "code",
   "execution_count": 2,
   "id": "63bd5c16-35cf-42b7-8992-f3bd91deca4c",
   "metadata": {
    "ExecuteTime": {
     "end_time": "2024-04-03T17:02:31.210135Z",
     "start_time": "2024-04-03T17:02:30.542425Z"
    }
   },
   "outputs": [],
   "source": [
    "url = 'https://www.mcdaniel.edu/admissions-cost/cost-financial-aid/graduate-tuition-fees'\n",
    "page = requests.get(url)\n",
    "\n",
    "with open(TABLE + '.html', 'w', encoding='utf-8') as file:\n",
    "    file.write(page.text)"
   ]
  },
  {
   "cell_type": "code",
   "execution_count": 3,
   "id": "79e5ee39-7fbb-42e6-84e0-564ebe14d293",
   "metadata": {
    "ExecuteTime": {
     "end_time": "2024-04-03T17:02:31.227701Z",
     "start_time": "2024-04-03T17:02:31.211294Z"
    }
   },
   "outputs": [],
   "source": [
    "with open(TABLE + '.html', 'r', encoding='utf-8') as file:\n",
    "    content = file.read()\n",
    "\n",
    "soup = BeautifulSoup(content, 'html.parser')"
   ]
  },
  {
   "cell_type": "code",
   "execution_count": 4,
   "id": "c55ea1f2-b1a4-4156-ac97-6b005a208dcc",
   "metadata": {
    "ExecuteTime": {
     "end_time": "2024-04-03T17:02:31.232578Z",
     "start_time": "2024-04-03T17:02:31.228383Z"
    }
   },
   "outputs": [],
   "source": [
    "degree = 'M.S. in Data Analytics'\n",
    "button = soup.find('h3', string=degree)\n",
    "div = button.find_next('div')\n",
    "p_tags = div.find_all('p')\n",
    "\n",
    "cols = ['Program', 'Tuition (Per Credit Hour)', 'Residency Fee', 'Practicum Fee']\n",
    "\n",
    "tuition_fee = p_tags[0].text\n",
    "residency_fee = p_tags[1].text.split(' - ')[-1]\n",
    "practicum_fee = p_tags[2].text.split(' - ')[-1]\n",
    "\n",
    "data_1 = {'Program': degree, 'Tuition (Per Credit Hour)': tuition_fee, \n",
    "        'Residency Fee': residency_fee, 'Practicum Fee': practicum_fee}\n",
    "\n",
    "\n",
    "df1 = pd.DataFrame([data_1], columns=cols)"
   ]
  },
  {
   "cell_type": "code",
   "execution_count": 5,
   "id": "36e08d17-aaf2-4391-86b7-4cc14156770a",
   "metadata": {
    "ExecuteTime": {
     "end_time": "2024-04-03T17:02:31.237559Z",
     "start_time": "2024-04-03T17:02:31.234435Z"
    }
   },
   "outputs": [],
   "source": [
    "ul = soup.find('h2', string='Graduate Program Fees').find_next('ul')\n",
    "li_tags = ul.find_all('li')\n",
    "\n",
    "data_2 = []\n",
    "for li in li_tags:\n",
    "    item = li.get_text()\n",
    "    description, cost = [x.strip() for x in item.split(':')]\n",
    "    data_2.append([description, cost])\n",
    "\n",
    "df2 = pd.DataFrame(data_2, columns=[\"Description\", \"Cost\"])"
   ]
  },
  {
   "cell_type": "code",
   "execution_count": 6,
   "id": "d76dbbb5-6a69-4a86-a6f7-39f32e51f0a8",
   "metadata": {
    "scrolled": true,
    "ExecuteTime": {
     "end_time": "2024-04-03T17:02:31.240442Z",
     "start_time": "2024-04-03T17:02:31.238295Z"
    }
   },
   "outputs": [],
   "source": [
    "tbl = soup.table"
   ]
  },
  {
   "cell_type": "code",
   "execution_count": 7,
   "id": "2cbec4a7-1bf6-4437-93be-d6ab51e4841c",
   "metadata": {
    "ExecuteTime": {
     "end_time": "2024-04-03T17:02:31.248065Z",
     "start_time": "2024-04-03T17:02:31.241156Z"
    }
   },
   "outputs": [
    {
     "name": "stderr",
     "output_type": "stream",
     "text": [
      "/var/folders/jl/k_qw56hn2dx0cbwjpqwf8k3m0000gn/T/ipykernel_48140/1541087482.py:1: FutureWarning: Passing literal html to 'read_html' is deprecated and will be removed in a future version. To read from a literal string, wrap it in a 'StringIO' object.\n",
      "  df3 = pd.read_html(str(tbl))[0]\n"
     ]
    }
   ],
   "source": [
    "df3 = pd.read_html(str(tbl))[0]"
   ]
  },
  {
   "cell_type": "code",
   "execution_count": 8,
   "id": "7834622e-0c99-4864-8f5d-a51587da5823",
   "metadata": {
    "ExecuteTime": {
     "end_time": "2024-04-03T17:02:31.252830Z",
     "start_time": "2024-04-03T17:02:31.248604Z"
    }
   },
   "outputs": [],
   "source": [
    "merged_df = pd.concat([df1, df2, df3], axis=0, ignore_index=True)\n",
    "merged_df.to_csv(TABLE + '.csv')"
   ]
  },
  {
   "cell_type": "code",
   "execution_count": 9,
   "id": "d5f9ecd4-4154-4cf1-bf9a-936157a2f86b",
   "metadata": {
    "ExecuteTime": {
     "end_time": "2024-04-03T17:02:31.910040Z",
     "start_time": "2024-04-03T17:02:31.253435Z"
    }
   },
   "outputs": [
    {
     "name": "stderr",
     "output_type": "stream",
     "text": [
      "[NbConvertApp] Converting notebook Tuition.ipynb to script\n",
      "[NbConvertApp] Writing 1738 bytes to Tuition.py\n"
     ]
    },
    {
     "data": {
      "text/plain": "0"
     },
     "execution_count": 9,
     "metadata": {},
     "output_type": "execute_result"
    }
   ],
   "source": [
    "command = f\"jupyter nbconvert --to script {TABLE}\"\n",
    "os.system(command)"
   ]
  }
 ],
 "metadata": {
  "kernelspec": {
   "display_name": "Python 3 (ipykernel)",
   "language": "python",
   "name": "python3"
  },
  "language_info": {
   "codemirror_mode": {
    "name": "ipython",
    "version": 3
   },
   "file_extension": ".py",
   "mimetype": "text/x-python",
   "name": "python",
   "nbconvert_exporter": "python",
   "pygments_lexer": "ipython3",
   "version": "3.11.8"
  }
 },
 "nbformat": 4,
 "nbformat_minor": 5
}
