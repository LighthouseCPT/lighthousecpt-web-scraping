{
 "cells": [
  {
   "cell_type": "code",
   "execution_count": 26,
   "id": "3fcf9021-abf9-41a9-b258-d620d92bcfe4",
   "metadata": {
    "ExecuteTime": {
     "end_time": "2024-03-21T17:03:11.683638Z",
     "start_time": "2024-03-21T17:03:11.306138Z"
    }
   },
   "outputs": [],
   "source": [
    "import requests\n",
    "from bs4 import BeautifulSoup\n",
    "import pandas as pd\n",
    "pd.set_option('display.max_columns', None)\n",
    "pd.set_option('display.max_colwidth', None)\n",
    "TABLE = 'Tuition'"
   ]
  },
  {
   "cell_type": "code",
   "execution_count": 27,
   "id": "63bd5c16-35cf-42b7-8992-f3bd91deca4c",
   "metadata": {},
   "outputs": [],
   "source": [
    "url = 'https://www.mcdaniel.edu/admissions-cost/cost-financial-aid/graduate-tuition-fees'\n",
    "page = requests.get(url)\n",
    "\n",
    "with open(TABLE + '.html', 'w', encoding='utf-8') as file:\n",
    "    file.write(page.text)"
   ]
  },
  {
   "cell_type": "code",
   "execution_count": 28,
   "id": "79e5ee39-7fbb-42e6-84e0-564ebe14d293",
   "metadata": {},
   "outputs": [],
   "source": [
    "with open(TABLE + '.html', 'r', encoding='utf-8') as file:\n",
    "    content = file.read()\n",
    "\n",
    "soup = BeautifulSoup(content, 'html.parser')"
   ]
  },
  {
   "cell_type": "code",
   "execution_count": 29,
   "id": "c55ea1f2-b1a4-4156-ac97-6b005a208dcc",
   "metadata": {},
   "outputs": [
    {
     "data": {
      "text/html": [
       "<div>\n",
       "<style scoped>\n",
       "    .dataframe tbody tr th:only-of-type {\n",
       "        vertical-align: middle;\n",
       "    }\n",
       "\n",
       "    .dataframe tbody tr th {\n",
       "        vertical-align: top;\n",
       "    }\n",
       "\n",
       "    .dataframe thead th {\n",
       "        text-align: right;\n",
       "    }\n",
       "</style>\n",
       "<table border=\"1\" class=\"dataframe\">\n",
       "  <thead>\n",
       "    <tr style=\"text-align: right;\">\n",
       "      <th></th>\n",
       "      <th>Program</th>\n",
       "      <th>Tuition (Per Credit Hour)</th>\n",
       "      <th>Residency Fee</th>\n",
       "      <th>Practicum Fee</th>\n",
       "    </tr>\n",
       "  </thead>\n",
       "  <tbody>\n",
       "    <tr>\n",
       "      <th>0</th>\n",
       "      <td>M.S. in Data Analytics</td>\n",
       "      <td>$689 per credit beginning in Fall 2023</td>\n",
       "      <td>$204</td>\n",
       "      <td>$200</td>\n",
       "    </tr>\n",
       "  </tbody>\n",
       "</table>\n",
       "</div>"
      ],
      "text/plain": [
       "                  Program               Tuition (Per Credit Hour)  \\\n",
       "0  M.S. in Data Analytics  $689 per credit beginning in Fall 2023   \n",
       "\n",
       "  Residency Fee Practicum Fee  \n",
       "0          $204          $200  "
      ]
     },
     "execution_count": 29,
     "metadata": {},
     "output_type": "execute_result"
    }
   ],
   "source": [
    "degree = 'M.S. in Data Analytics'\n",
    "button = soup.find('h3', string=degree)\n",
    "div = button.find_next('div')\n",
    "p_tags = div.find_all('p')\n",
    "\n",
    "cols = ['Program', 'Tuition (Per Credit Hour)', 'Residency Fee', 'Practicum Fee']\n",
    "\n",
    "tuition_fee = p_tags[0].text\n",
    "residency_fee = p_tags[1].text.split(' - ')[-1]\n",
    "practicum_fee = p_tags[2].text.split(' - ')[-1]\n",
    "\n",
    "data_1 = {'Program': degree, 'Tuition (Per Credit Hour)': tuition_fee, \n",
    "        'Residency Fee': residency_fee, 'Practicum Fee': practicum_fee}\n",
    "\n",
    "\n",
    "df1 = pd.DataFrame([data_1], columns=cols)\n",
    "df1"
   ]
  },
  {
   "cell_type": "code",
   "execution_count": 30,
   "id": "36e08d17-aaf2-4391-86b7-4cc14156770a",
   "metadata": {},
   "outputs": [
    {
     "data": {
      "text/html": [
       "<div>\n",
       "<style scoped>\n",
       "    .dataframe tbody tr th:only-of-type {\n",
       "        vertical-align: middle;\n",
       "    }\n",
       "\n",
       "    .dataframe tbody tr th {\n",
       "        vertical-align: top;\n",
       "    }\n",
       "\n",
       "    .dataframe thead th {\n",
       "        text-align: right;\n",
       "    }\n",
       "</style>\n",
       "<table border=\"1\" class=\"dataframe\">\n",
       "  <thead>\n",
       "    <tr style=\"text-align: right;\">\n",
       "      <th></th>\n",
       "      <th>Description</th>\n",
       "      <th>Cost</th>\n",
       "    </tr>\n",
       "  </thead>\n",
       "  <tbody>\n",
       "    <tr>\n",
       "      <th>0</th>\n",
       "      <td>Administrative Fee</td>\n",
       "      <td>$105.00 per semester</td>\n",
       "    </tr>\n",
       "    <tr>\n",
       "      <th>1</th>\n",
       "      <td>Late Payment Fee</td>\n",
       "      <td>$50.00</td>\n",
       "    </tr>\n",
       "    <tr>\n",
       "      <th>2</th>\n",
       "      <td>Student Teaching Fees</td>\n",
       "      <td>$850.00</td>\n",
       "    </tr>\n",
       "    <tr>\n",
       "      <th>3</th>\n",
       "      <td>Transcript Fee</td>\n",
       "      <td>$12.00</td>\n",
       "    </tr>\n",
       "    <tr>\n",
       "      <th>4</th>\n",
       "      <td>Late Registration Fee</td>\n",
       "      <td>$35.00</td>\n",
       "    </tr>\n",
       "  </tbody>\n",
       "</table>\n",
       "</div>"
      ],
      "text/plain": [
       "             Description                  Cost\n",
       "0     Administrative Fee  $105.00 per semester\n",
       "1       Late Payment Fee                $50.00\n",
       "2  Student Teaching Fees               $850.00\n",
       "3         Transcript Fee                $12.00\n",
       "4  Late Registration Fee                $35.00"
      ]
     },
     "execution_count": 30,
     "metadata": {},
     "output_type": "execute_result"
    }
   ],
   "source": [
    "ul = soup.find('h2', string='Graduate Program Fees').find_next('ul')\n",
    "li_tags = ul.find_all('li')\n",
    "\n",
    "data_2 = []\n",
    "for li in li_tags:\n",
    "    item = li.get_text()\n",
    "    description, cost = [x.strip() for x in item.split(':')]\n",
    "    data_2.append([description, cost])\n",
    "\n",
    "df2 = pd.DataFrame(data_2, columns=[\"Description\", \"Cost\"])\n",
    "df2"
   ]
  },
  {
   "cell_type": "code",
   "execution_count": 31,
   "id": "d76dbbb5-6a69-4a86-a6f7-39f32e51f0a8",
   "metadata": {
    "scrolled": true
   },
   "outputs": [],
   "source": [
    "tbl = soup.table"
   ]
  },
  {
   "cell_type": "code",
   "execution_count": 32,
   "id": "2cbec4a7-1bf6-4437-93be-d6ab51e4841c",
   "metadata": {},
   "outputs": [
    {
     "name": "stderr",
     "output_type": "stream",
     "text": [
      "/var/folders/jl/k_qw56hn2dx0cbwjpqwf8k3m0000gn/T/ipykernel_11364/2880364159.py:1: FutureWarning: Passing literal html to 'read_html' is deprecated and will be removed in a future version. To read from a literal string, wrap it in a 'StringIO' object.\n",
      "  df3 = pd.read_html(str(tbl))[0]\n"
     ]
    },
    {
     "data": {
      "text/html": [
       "<div>\n",
       "<style scoped>\n",
       "    .dataframe tbody tr th:only-of-type {\n",
       "        vertical-align: middle;\n",
       "    }\n",
       "\n",
       "    .dataframe tbody tr th {\n",
       "        vertical-align: top;\n",
       "    }\n",
       "\n",
       "    .dataframe thead th {\n",
       "        text-align: right;\n",
       "    }\n",
       "</style>\n",
       "<table border=\"1\" class=\"dataframe\">\n",
       "  <thead>\n",
       "    <tr style=\"text-align: right;\">\n",
       "      <th></th>\n",
       "      <th>0</th>\n",
       "      <th>1</th>\n",
       "      <th>2</th>\n",
       "    </tr>\n",
       "  </thead>\n",
       "  <tbody>\n",
       "    <tr>\n",
       "      <th>0</th>\n",
       "      <td>Tuition</td>\n",
       "      <td>$11,412.00 per year</td>\n",
       "      <td>Based on average tuition for full-time enrollment (fall/spring/summer)</td>\n",
       "    </tr>\n",
       "    <tr>\n",
       "      <th>1</th>\n",
       "      <td>Fees</td>\n",
       "      <td>$1,472 per year</td>\n",
       "      <td>Based on average fees for full-time enrollment (fall/spring/summer)</td>\n",
       "    </tr>\n",
       "    <tr>\n",
       "      <th>2</th>\n",
       "      <td>Books</td>\n",
       "      <td>$1,798 per year</td>\n",
       "      <td>Indirect charge: to be used for planning</td>\n",
       "    </tr>\n",
       "    <tr>\n",
       "      <th>3</th>\n",
       "      <td>Meals Not on Campus</td>\n",
       "      <td>$3,572.00 per year</td>\n",
       "      <td>Indirect charge: to be used for planning</td>\n",
       "    </tr>\n",
       "    <tr>\n",
       "      <th>4</th>\n",
       "      <td>Off Campus Room</td>\n",
       "      <td>$8,332.00 per year</td>\n",
       "      <td>Indirect charge: to be used for planning</td>\n",
       "    </tr>\n",
       "    <tr>\n",
       "      <th>5</th>\n",
       "      <td>Off Campus Transportation</td>\n",
       "      <td>$2,470.00 per year</td>\n",
       "      <td>Indirect charge: to be used for planning</td>\n",
       "    </tr>\n",
       "    <tr>\n",
       "      <th>6</th>\n",
       "      <td>Personal Expenses</td>\n",
       "      <td>$8,086.00 per year</td>\n",
       "      <td>Indirect charge: to be used for planning</td>\n",
       "    </tr>\n",
       "  </tbody>\n",
       "</table>\n",
       "</div>"
      ],
      "text/plain": [
       "                           0                    1  \\\n",
       "0                    Tuition  $11,412.00 per year   \n",
       "1                       Fees      $1,472 per year   \n",
       "2                      Books      $1,798 per year   \n",
       "3        Meals Not on Campus   $3,572.00 per year   \n",
       "4            Off Campus Room   $8,332.00 per year   \n",
       "5  Off Campus Transportation   $2,470.00 per year   \n",
       "6          Personal Expenses   $8,086.00 per year   \n",
       "\n",
       "                                                                        2  \n",
       "0  Based on average tuition for full-time enrollment (fall/spring/summer)  \n",
       "1     Based on average fees for full-time enrollment (fall/spring/summer)  \n",
       "2                                Indirect charge: to be used for planning  \n",
       "3                                Indirect charge: to be used for planning  \n",
       "4                                Indirect charge: to be used for planning  \n",
       "5                                Indirect charge: to be used for planning  \n",
       "6                                Indirect charge: to be used for planning  "
      ]
     },
     "execution_count": 32,
     "metadata": {},
     "output_type": "execute_result"
    }
   ],
   "source": [
    "df3 = pd.read_html(str(tbl))[0]\n",
    "df3"
   ]
  },
  {
   "cell_type": "code",
   "execution_count": 33,
   "id": "7834622e-0c99-4864-8f5d-a51587da5823",
   "metadata": {},
   "outputs": [],
   "source": [
    "merged_df = pd.concat([df1, df2, df3], axis=0, ignore_index=True)\n",
    "merged_df.to_csv(TABLE + '.csv')"
   ]
  },
  {
   "cell_type": "code",
   "execution_count": null,
   "id": "d5f9ecd4-4154-4cf1-bf9a-936157a2f86b",
   "metadata": {},
   "outputs": [],
   "source": []
  }
 ],
 "metadata": {
  "kernelspec": {
   "display_name": "Python 3 (ipykernel)",
   "language": "python",
   "name": "python3"
  },
  "language_info": {
   "codemirror_mode": {
    "name": "ipython",
    "version": 3
   },
   "file_extension": ".py",
   "mimetype": "text/x-python",
   "name": "python",
   "nbconvert_exporter": "python",
   "pygments_lexer": "ipython3",
   "version": "3.11.8"
  }
 },
 "nbformat": 4,
 "nbformat_minor": 5
}
