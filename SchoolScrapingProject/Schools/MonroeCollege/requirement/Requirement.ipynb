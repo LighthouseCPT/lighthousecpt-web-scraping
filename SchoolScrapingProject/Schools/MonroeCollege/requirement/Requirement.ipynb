{
 "cells": [
  {
   "cell_type": "code",
   "execution_count": 9,
   "id": "initial_id",
   "metadata": {
    "ExecuteTime": {
     "end_time": "2024-04-03T15:51:50.369840Z",
     "start_time": "2024-04-03T15:51:50.367333Z"
    }
   },
   "outputs": [],
   "source": [
    "import requests\n",
    "import re\n",
    "from bs4 import BeautifulSoup\n",
    "import os\n",
    "import pandas as pd\n",
    "pd.set_option('display.max_columns', None)\n",
    "pd.set_option('display.max_colwidth', None)\n",
    "TABLE = 'Requirement'"
   ]
  },
  {
   "cell_type": "code",
   "execution_count": 10,
   "id": "fabeefa4-efb2-407e-bbba-ca091de2eb52",
   "metadata": {
    "ExecuteTime": {
     "end_time": "2024-04-03T15:51:50.603092Z",
     "start_time": "2024-04-03T15:51:50.371174Z"
    }
   },
   "outputs": [],
   "source": [
    "url = 'https://www.monroecollege.edu/admissions-and-aid/how-apply/international-student'\n",
    "page = requests.get(url)\n",
    "\n",
    "with open(TABLE + '.html', 'w', encoding='utf-8') as file:\n",
    "    file.write(page.text)"
   ]
  },
  {
   "cell_type": "code",
   "execution_count": 11,
   "id": "f3b25e03-8728-4c56-9950-37f0298b8945",
   "metadata": {
    "ExecuteTime": {
     "end_time": "2024-04-03T15:51:50.630451Z",
     "start_time": "2024-04-03T15:51:50.604235Z"
    }
   },
   "outputs": [],
   "source": [
    "with open(TABLE + '.html', 'r', encoding='utf-8') as file:\n",
    "    content = file.read()\n",
    "\n",
    "soup = BeautifulSoup(content, 'html.parser')"
   ]
  },
  {
   "cell_type": "code",
   "execution_count": 12,
   "id": "1457e3c9-d01b-41d9-9731-9dfd5cde6964",
   "metadata": {
    "ExecuteTime": {
     "end_time": "2024-04-03T15:51:50.634297Z",
     "start_time": "2024-04-03T15:51:50.631136Z"
    }
   },
   "outputs": [],
   "source": [
    "pattern = re.compile(r'Graduate Admissions for Master’s Degrees')\n",
    "\n",
    "data = soup.find(string=pattern).find_next('ul').get_text(separator='\\n', strip=True)"
   ]
  },
  {
   "cell_type": "code",
   "execution_count": 13,
   "id": "187867db-0200-400c-ac23-70741fde47bb",
   "metadata": {
    "ExecuteTime": {
     "end_time": "2024-04-03T15:51:50.637731Z",
     "start_time": "2024-04-03T15:51:50.635507Z"
    }
   },
   "outputs": [
    {
     "data": {
      "text/plain": "'Bachelor Degree transcript and diploma\\nPrior Master Degree transcripts\\xa0 – Official transcripts from any graduate degree program must be mailed directly or securely emailed to Monroe College’s International Admissions office to receive credits. Upon approval, The King Graduate School can accept a maximum of two courses. Unofficial transcripts may be uploaded to the portal for admissions review.\\nSubmit professional resume and two letters of recommendation. Online letters of recommendation can be accessed on the online application portal.\\nNon-native English speaker proof of English proficiency'"
     },
     "execution_count": 13,
     "metadata": {},
     "output_type": "execute_result"
    }
   ],
   "source": [
    "data"
   ]
  },
  {
   "cell_type": "code",
   "execution_count": 14,
   "id": "c4e8ff25-cb2f-4bc0-8261-ac1bb356c45c",
   "metadata": {
    "ExecuteTime": {
     "end_time": "2024-04-03T15:51:50.639833Z",
     "start_time": "2024-04-03T15:51:50.638245Z"
    }
   },
   "outputs": [],
   "source": [
    "df = pd.DataFrame([data])\n",
    "# df.to_csv(TABLE + '.csv')"
   ]
  },
  {
   "cell_type": "code",
   "outputs": [
    {
     "name": "stderr",
     "output_type": "stream",
     "text": [
      "[NbConvertApp] Converting notebook Requirement.ipynb to script\n",
      "[NbConvertApp] Writing 937 bytes to Requirement.py\n"
     ]
    },
    {
     "data": {
      "text/plain": "0"
     },
     "execution_count": 15,
     "metadata": {},
     "output_type": "execute_result"
    }
   ],
   "source": [
    "command = f\"jupyter nbconvert --to script {TABLE}\"\n",
    "os.system(command)"
   ],
   "metadata": {
    "collapsed": false,
    "ExecuteTime": {
     "end_time": "2024-04-03T15:51:51.289701Z",
     "start_time": "2024-04-03T15:51:50.640490Z"
    }
   },
   "id": "d22dc8b904caa05a",
   "execution_count": 15
  }
 ],
 "metadata": {
  "kernelspec": {
   "display_name": "Python 3 (ipykernel)",
   "language": "python",
   "name": "python3"
  },
  "language_info": {
   "codemirror_mode": {
    "name": "ipython",
    "version": 3
   },
   "file_extension": ".py",
   "mimetype": "text/x-python",
   "name": "python",
   "nbconvert_exporter": "python",
   "pygments_lexer": "ipython3",
   "version": "3.9.6"
  }
 },
 "nbformat": 4,
 "nbformat_minor": 5
}
