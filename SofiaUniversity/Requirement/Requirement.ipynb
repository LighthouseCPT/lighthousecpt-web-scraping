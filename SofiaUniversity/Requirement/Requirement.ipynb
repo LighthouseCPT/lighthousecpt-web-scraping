{
 "cells": [
  {
   "cell_type": "code",
   "execution_count": 19,
   "id": "initial_id",
   "metadata": {
    "ExecuteTime": {
     "end_time": "2024-03-22T14:11:13.509705Z",
     "start_time": "2024-03-22T14:11:13.102405Z"
    }
   },
   "outputs": [],
   "source": [
    "import os\n",
    "import requests\n",
    "import re\n",
    "from bs4 import BeautifulSoup\n",
    "import pandas as pd\n",
    "import tabula\n",
    "from pypdf import PdfReader\n",
    "pd.set_option('display.max_columns', None)\n",
    "pd.set_option('display.max_colwidth', None)\n",
    "TABLE = 'Requirement'"
   ]
  },
  {
   "cell_type": "code",
   "execution_count": 23,
   "id": "93140f6f43d5f93e",
   "metadata": {
    "collapsed": false
   },
   "outputs": [],
   "source": [
    "MBA_PDF = None\n",
    "\n",
    "for file in os.listdir():\n",
    "    if 'mba' in file.lower() and file.endswith('.pdf'):\n",
    "        MBA_PDF = file\n",
    "        break\n",
    "else:\n",
    "    raise FileNotFoundError(\"No MBA PDF file found!\")"
   ]
  },
  {
   "cell_type": "code",
   "execution_count": 24,
   "id": "65c58041-778e-4354-9455-55c5c328810e",
   "metadata": {},
   "outputs": [],
   "source": [
    "DBA_PDF = None\n",
    "\n",
    "for file in os.listdir():\n",
    "    if 'dba' in file.lower() and file.endswith('.pdf'):\n",
    "        DBA_PDF = file\n",
    "        break\n",
    "else:\n",
    "    raise FileNotFoundError(\"No DBA PDF file found!\")"
   ]
  },
  {
   "cell_type": "code",
   "execution_count": 25,
   "id": "6c8ca255-9c6e-49ac-ac3c-b7e5cab1c96d",
   "metadata": {},
   "outputs": [
    {
     "name": "stdout",
     "output_type": "stream",
     "text": [
      "3333 Harbor Blvd.  \n",
      "Costa Mesa , CA 9 2626  \n",
      "T: 888.820.1484  \n",
      "F: 650.4 59.5400  \n",
      " 1069 E. Meadow Circle  \n",
      "Palo Alto, CA 94303  \n",
      "T: 888.820.1484  \n",
      "F: 650.4 59.5400  \n",
      " \n",
      "sofia.edu   \n",
      " \n",
      " \n",
      " Master of Business Administration (MBA) Program  \n",
      "Admissions Requirements   \n",
      " \n",
      "Thank you for your interest in Sofia University’s Master of Business Administration  (MBA)  program! \n",
      "Below is the Admissions checklist for your reference:  \n",
      "Online Application Form   ✓ \n",
      "$50 Application Fee   ✓ \n",
      "Statement of Purpose                                                                                                       ✓ \n",
      "ID (Copy of Passport or Driver’s License)  ✓ \n",
      "All Official Academic  Transcripts   ✓ \n",
      "Foreign Transcript Evaluation (If Applicable)   ✓ \n",
      "English Proficiency Score  (If Applicable)   ✓ \n",
      "$200 Acceptance Fee   ✓ \n",
      "F-1 Admissions Requirements            \n",
      "Bank Statement (within 6 months: min $26,012)   ✓ \n",
      "Affidavit of Support (If Applicable )  ✓ \n",
      "Copy of Passport    ✓ \n",
      "Current I -20 Visa (If Applicable)   ✓ \n",
      "Current I -94 (If Applicable)   ✓ \n",
      "Current I -797A (If Applicable)   ✓ \n",
      "EAD Card (If Applicable)   ✓ \n",
      " \n",
      "❖ Online Application : Students ready to sign up for our programs may submit an online application \n",
      "through our portal .  \n",
      "❖ Official Transcripts : All official academic  transcripts  must be  sent  by the school to  \n",
      "registrar@sofia.edu  or: \n",
      "Sofia University Registrar Office  \n",
      "1069 East Meadow Cr.  \n",
      "Palo Alto CA, 94303  \n",
      " \n",
      "Students must have a bachelor’s  degree from a n accredited institution with a 3.0 GPA or higher. Those \n",
      "with a slight ly lower GPA may still be considered if they supply a letter of recommendation.  \n",
      "❖ Statement of Purpose : Students must include a statement of intent that addresses their passion for \n",
      "business administration , what drew them to the school, and what they hope to accomplish while  \n",
      "enrolled and upon graduation.  \n",
      " \n",
      " \n",
      "WE ARE EXCITED ABOUT YOUR ACADEMIC JOURNEY AT SOFIA UNI VERSITY!  \n"
     ]
    }
   ],
   "source": [
    "reader_mba = PdfReader(MBA_PDF)\n",
    "number_of_pages_mba = len(reader_mba.pages)\n",
    "\n",
    "# Create an empty string to store all text\n",
    "mba_text = \"\"\n",
    "\n",
    "# Loop through all pages and append their text to all_text\n",
    "for i in range(number_of_pages_mba):\n",
    "    page = reader_mba.pages[i]\n",
    "    mba_text += page.extract_text() + \"\\n\"  # Add a newline after each page's text\n",
    "\n",
    "print(mba_text)"
   ]
  },
  {
   "cell_type": "code",
   "execution_count": 26,
   "id": "7a1e109e-8cc3-4c53-87ca-b584f0a80c97",
   "metadata": {},
   "outputs": [
    {
     "name": "stdout",
     "output_type": "stream",
     "text": [
      " \n",
      " \n",
      " \n",
      " \n",
      " \n",
      " \n",
      " \n",
      " \n",
      " \n",
      "Sofia University DBA Program \n",
      "Requirements for Admission \n",
      "Overview of Your Project & Your Leadership \n",
      " \n",
      "This unique DBA program at Soﬁa  University requires the candidate to design and implement a \n",
      "compelling research-based business opportunity with global implica tions for organizational \n",
      "change and transforma tion as one of two ﬁnal products. In addition, the candidate must engage \n",
      "in ongoing leadership assessment design, development, and mentoring that tangibly supports \n",
      "the successful roll-out of the designated opportunity. The ﬁndings of both projects are \n",
      "presented at the Soﬁa Global Business Congress at the end of each program. The  engagement \n",
      "begins now in the admissions process: \n",
      " \n",
      "1.  Identify the complex global business opportunity you seek to address throughout \n",
      "the three years of the DBA program. This description should be no more than \n",
      "500 words. \n",
      "2. Describe up to three desirable outcomes of this project following research and \n",
      "innovative designing of options. This overview should be no more than 500 \n",
      "words. \n",
      "3. Provide a brief overview of your rationale for enrolling in this DBA program at \n",
      "Sofia University in connection with your project. This overview should be no more \n",
      "than 500 words. \n",
      "4. Could you tell us about your leadership strengths and opportunities for continued \n",
      "personal development as you engage with this complex global business \n",
      "opportunity? This assessment should be no more than 500 words. \n",
      " \n",
      "Thank you for the time and inten tion you have demonstrated here. The next step includes a \n",
      "conversation with a faculty member or business advisor on your project and your leadership \n",
      "overview. \n",
      " \n",
      " \n",
      " \n",
      " \n",
      " \n",
      " \n",
      " \n",
      " \n",
      "Soﬁa  University DBA Program \n",
      "\n",
      "November 2023. \n"
     ]
    }
   ],
   "source": [
    "reader_dba = PdfReader(DBA_PDF)\n",
    "number_of_pages_dba = len(reader_dba.pages)\n",
    "\n",
    "# Create an empty string to store all text\n",
    "dba_text = \"\"\n",
    "\n",
    "# Loop through all pages and append their text to all_text\n",
    "for i in range(number_of_pages_dba):\n",
    "    page = reader_dba.pages[i]\n",
    "    dba_text += page.extract_text() + \"\\n\"  # Add a newline after each page's text\n",
    "\n",
    "print(dba_text)"
   ]
  },
  {
   "cell_type": "code",
   "execution_count": 33,
   "id": "dbe57e2e-82b6-4329-a2ae-8317e08be8de",
   "metadata": {},
   "outputs": [],
   "source": [
    "data = {'Graduate': [mba_text], 'Doctor': [dba_text]}\n",
    "df = pd.DataFrame(data)\n",
    "df.to_csv(TABLE + '.csv')"
   ]
  }
 ],
 "metadata": {
  "kernelspec": {
   "display_name": "Python 3 (ipykernel)",
   "language": "python",
   "name": "python3"
  },
  "language_info": {
   "codemirror_mode": {
    "name": "ipython",
    "version": 3
   },
   "file_extension": ".py",
   "mimetype": "text/x-python",
   "name": "python",
   "nbconvert_exporter": "python",
   "pygments_lexer": "ipython3",
   "version": "3.11.8"
  }
 },
 "nbformat": 4,
 "nbformat_minor": 5
}
