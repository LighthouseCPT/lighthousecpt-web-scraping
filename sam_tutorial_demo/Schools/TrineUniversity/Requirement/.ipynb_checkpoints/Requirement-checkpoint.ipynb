{
 "cells": [
  {
   "cell_type": "code",
   "execution_count": 9,
   "id": "initial_id",
   "metadata": {
    "ExecuteTime": {
     "end_time": "2024-03-26T14:33:42.927002Z",
     "start_time": "2024-03-26T14:33:42.923037Z"
    }
   },
   "outputs": [],
   "source": [
    "import requests\n",
    "from bs4 import BeautifulSoup\n",
    "import pandas as pd\n",
    "pd.set_option('display.max_columns', None)\n",
    "pd.set_option('display.max_colwidth', None)\n",
    "columns = ['Gradaute', 'Doctor']\n",
    "df = pd.DataFrame(columns=columns)\n",
    "TABLE = 'Requirement'"
   ]
  },
  {
   "cell_type": "code",
   "execution_count": 10,
   "id": "9ef2fb0070b3b969",
   "metadata": {
    "ExecuteTime": {
     "end_time": "2024-03-19T19:14:14.259432Z",
     "start_time": "2024-03-19T19:14:13.999156Z"
    },
    "collapsed": false,
    "jupyter": {
     "outputs_hidden": false
    }
   },
   "outputs": [],
   "source": [
    "graduate_url = 'https://www.trine.edu/international/graduate/international-apply.aspx'\n",
    "graduate_page = requests.get(graduate_url)\n",
    "\n",
    "with open('graduate.html', 'w', encoding='utf-8') as file:\n",
    "    file.write(graduate_page.text)"
   ]
  },
  {
   "cell_type": "code",
   "execution_count": 11,
   "id": "6c61719d-d899-4f55-8e0b-1bc461a1a8af",
   "metadata": {
    "ExecuteTime": {
     "end_time": "2024-03-19T19:14:14.887185Z",
     "start_time": "2024-03-19T19:14:14.874805Z"
    }
   },
   "outputs": [],
   "source": [
    "with open('graduate.html', 'r', encoding='utf-8') as file:\n",
    "    content = file.read()\n",
    "\n",
    "graduate_soup = BeautifulSoup(content, 'html.parser')"
   ]
  },
  {
   "cell_type": "code",
   "execution_count": 12,
   "id": "bf94c205-e1a7-4684-b39f-61d709a5a09c",
   "metadata": {
    "ExecuteTime": {
     "end_time": "2024-03-19T19:14:16.044595Z",
     "start_time": "2024-03-19T19:14:16.038557Z"
    }
   },
   "outputs": [],
   "source": [
    "h2_tag = graduate_soup.find('h2', string=\"International Graduate/Master's Degree application\")"
   ]
  },
  {
   "cell_type": "code",
   "execution_count": 13,
   "id": "8cf63a15-8ca7-4a24-b1cf-39e33dca4e26",
   "metadata": {
    "ExecuteTime": {
     "end_time": "2024-03-19T19:14:17.843586Z",
     "start_time": "2024-03-19T19:14:17.835475Z"
    }
   },
   "outputs": [],
   "source": [
    "text = h2_tag.find_next_sibling(\"ul\").find_next_sibling(\"ul\").find('li').get_text(separator='\\n', strip=True)\n",
    "df.at[0, 'Gradaute'] = text"
   ]
  },
  {
   "cell_type": "code",
   "execution_count": 14,
   "id": "a0e74d70-a375-4114-a282-796832737ad1",
   "metadata": {
    "ExecuteTime": {
     "end_time": "2024-03-19T19:14:19.412819Z",
     "start_time": "2024-03-19T19:14:19.114538Z"
    }
   },
   "outputs": [],
   "source": [
    "doctor_url = 'https://www.trine.edu/online/degrees/engineering-technology/online-doctor-information-technology.aspx'\n",
    "doctor_page = requests.get(doctor_url)\n",
    "\n",
    "with open('doctor.html', 'w', encoding='utf-8') as file:\n",
    "    file.write(doctor_page.text)"
   ]
  },
  {
   "cell_type": "code",
   "execution_count": 15,
   "id": "3ad09234-a9d5-4411-9dcc-2d166866efb1",
   "metadata": {
    "ExecuteTime": {
     "end_time": "2024-03-19T19:14:20.229794Z",
     "start_time": "2024-03-19T19:14:20.202305Z"
    }
   },
   "outputs": [],
   "source": [
    "with open('doctor.html', 'r', encoding='utf-8') as file:\n",
    "    content = file.read()\n",
    "\n",
    "doctor_soup = BeautifulSoup(content, 'html.parser')"
   ]
  },
  {
   "cell_type": "code",
   "execution_count": 16,
   "id": "cdda01ce-753b-4478-ac7f-2e583a010158",
   "metadata": {
    "ExecuteTime": {
     "end_time": "2024-03-19T19:14:21.244940Z",
     "start_time": "2024-03-19T19:14:21.230146Z"
    }
   },
   "outputs": [],
   "source": [
    "text = doctor_soup.find(string='Admission Requirements').find_next('li').get_text(separator='\\n', strip=True)\n",
    "df.at[0, 'Doctor'] = text\n",
    "df.to_csv(TABLE + '.csv')"
   ]
  }
 ],
 "metadata": {
  "kernelspec": {
   "display_name": "Python 3 (ipykernel)",
   "language": "python",
   "name": "python3"
  },
  "language_info": {
   "codemirror_mode": {
    "name": "ipython",
    "version": 3
   },
   "file_extension": ".py",
   "mimetype": "text/x-python",
   "name": "python",
   "nbconvert_exporter": "python",
   "pygments_lexer": "ipython3",
   "version": "3.11.8"
  }
 },
 "nbformat": 4,
 "nbformat_minor": 5
}
