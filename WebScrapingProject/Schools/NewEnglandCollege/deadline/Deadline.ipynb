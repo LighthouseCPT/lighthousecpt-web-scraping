{
 "cells": [
  {
   "cell_type": "code",
   "execution_count": 9,
   "id": "initial_id",
   "metadata": {
    "ExecuteTime": {
     "end_time": "2024-04-02T17:03:54.942978Z",
     "start_time": "2024-04-02T17:03:54.940185Z"
    }
   },
   "outputs": [],
   "source": [
    "import requests\n",
    "import re\n",
    "import os\n",
    "from bs4 import BeautifulSoup, NavigableString\n",
    "import pandas as pd\n",
    "pd.set_option('display.max_columns', None)\n",
    "pd.set_option('display.max_colwidth', None)\n",
    "TABLE = 'Deadline'"
   ]
  },
  {
   "cell_type": "code",
   "execution_count": 10,
   "id": "4edac1ca578f912b",
   "metadata": {
    "collapsed": false,
    "ExecuteTime": {
     "end_time": "2024-04-02T17:03:55.018064Z",
     "start_time": "2024-04-02T17:03:54.944590Z"
    }
   },
   "outputs": [],
   "source": [
    "headers = {'User-Agent': 'Mozilla/5.0 (Macintosh; Intel Mac OS X 10_11_5) AppleWebKit/537.36 (KHTML, like Gecko) Chrome/50.0.2661.102 Safari/537.36'}\n",
    "url = 'https://newengland.viewpage.co/International-Graduate-Admission-Start-Terms_ONCAMPUS'\n",
    "page = requests.get(url, headers=headers)\n",
    "\n",
    "with open(TABLE + '.html', 'w', encoding='utf-8') as file:\n",
    "    file.write(page.text)"
   ]
  },
  {
   "cell_type": "code",
   "execution_count": 11,
   "id": "288fd575-6f15-4864-b290-484534c51b62",
   "metadata": {
    "ExecuteTime": {
     "end_time": "2024-04-02T17:03:55.025783Z",
     "start_time": "2024-04-02T17:03:55.019241Z"
    }
   },
   "outputs": [],
   "source": [
    "with open(TABLE + '.html', 'r', encoding='utf-8') as file:\n",
    "    content = file.read()\n",
    "\n",
    "soup = BeautifulSoup(content, 'html.parser')"
   ]
  },
  {
   "cell_type": "code",
   "execution_count": 12,
   "id": "ff7dbdc0-75bb-40f2-8bbd-01d5e58fa9b7",
   "metadata": {
    "ExecuteTime": {
     "end_time": "2024-04-02T17:03:55.028963Z",
     "start_time": "2024-04-02T17:03:55.026490Z"
    }
   },
   "outputs": [
    {
     "data": {
      "text/plain": "'On Campus MS Programs'"
     },
     "execution_count": 12,
     "metadata": {},
     "output_type": "execute_result"
    }
   ],
   "source": [
    "soup.find(string='On Campus MS Programs')"
   ]
  },
  {
   "cell_type": "code",
   "execution_count": 13,
   "id": "22a0b697-8b77-46b7-8ae8-4a35baf01936",
   "metadata": {
    "ExecuteTime": {
     "end_time": "2024-04-02T17:03:55.033035Z",
     "start_time": "2024-04-02T17:03:55.030170Z"
    }
   },
   "outputs": [
    {
     "name": "stdout",
     "output_type": "stream",
     "text": [
      "\n",
      "​\n",
      "Spring II: April 1, 2024\n",
      "(2024-04-01)\n",
      "Deadline for SEVIS Transfers is March 22, 2024.\n",
      "​\n",
      "​\n",
      "Summer I: May 20, 2024\n",
      "(2024-05-20)\n",
      "Deadline for Initial F-1 Applicants is March 22nd, 2024.\n",
      "Deadline for SEVIS Transfers is May 10, 2024.\n",
      "​\n",
      "​\n",
      "Summer II: July 8th, 2024\n",
      "(2024-07-08)\n",
      "Deadline for Initial F-1 Applications is May 9, 2024.\n",
      "Deadline for SEVIS Transfer Applicants is June 28, 2024.\n",
      "​\n",
      "Fall I: August 26, 2024\n",
      "(2024-08-26)\n",
      "Deadline for Initial F-1 Applications is June 27, 2024.\n",
      "Deadline for SEVIS Transfer Applicants is August 16, 2024.\n",
      "​\n",
      "​\n",
      "Fall II: October 14, 2024\n",
      "(2024-10-14)\n",
      "Deadline for Initial F-1 Applications is August 15, 2024.\n",
      "Deadline for SEVIS Transfer Applicants is October 4, 2024.\n",
      "Spring I: January 27, 2025\n",
      "(2025-01-27)\n",
      "Deadline for Initial F-1 Applications is November 28, 2024.​\n",
      "Deadline for SEVIS Transfer Applicants is January 22, 2025.\n"
     ]
    }
   ],
   "source": [
    "# find the p tag following the string 'On Campus MS Programs'\n",
    "p_tag = soup.find(string='On Campus MS Programs').find_next('p')\n",
    "\n",
    "# create an empty list to store subsequent divs\n",
    "subsequent_divs = []\n",
    "\n",
    "# next_siblings will return a generator which include all the siblings (not only divs)\n",
    "for elem in p_tag.next_siblings:\n",
    "    if isinstance(elem, NavigableString):  # Ignore string elements\n",
    "        continue\n",
    "    if elem.name == 'u' and elem.get_text(strip=True) == 'APPLY NOW':\n",
    "\t    break  # Break when find 'APPLY NOW'\n",
    "    if elem.name == 'div':\n",
    "        subsequent_divs.append(elem)\n",
    "\n",
    "# print content of each div\n",
    "for div in subsequent_divs:\n",
    "    print(div.get_text(separator='\\n', strip=True))"
   ]
  },
  {
   "cell_type": "code",
   "execution_count": 14,
   "id": "6a82a7f6-416d-4dd1-afda-e9fe4474832c",
   "metadata": {
    "ExecuteTime": {
     "end_time": "2024-04-02T17:03:55.036832Z",
     "start_time": "2024-04-02T17:03:55.033814Z"
    }
   },
   "outputs": [],
   "source": [
    "data = [div.get_text(separator='\\n', strip=True) for div in subsequent_divs]\n",
    "filtered_data = list(filter(None, data))\n",
    "df = pd.DataFrame([filtered_data])\n",
    "df\n",
    "df.to_csv(TABLE + '.csv')"
   ]
  },
  {
   "cell_type": "code",
   "outputs": [
    {
     "name": "stderr",
     "output_type": "stream",
     "text": [
      "[NbConvertApp] Converting notebook Deadline.ipynb to script\n",
      "[NbConvertApp] Writing 1822 bytes to Deadline.py\n"
     ]
    },
    {
     "data": {
      "text/plain": "0"
     },
     "execution_count": 15,
     "metadata": {},
     "output_type": "execute_result"
    }
   ],
   "source": [
    "command = f\"jupyter nbconvert --to script {TABLE}\"\n",
    "os.system(command)"
   ],
   "metadata": {
    "collapsed": false,
    "ExecuteTime": {
     "end_time": "2024-04-02T17:03:55.690460Z",
     "start_time": "2024-04-02T17:03:55.037460Z"
    }
   },
   "id": "4fb300ec020d281f",
   "execution_count": 15
  }
 ],
 "metadata": {
  "kernelspec": {
   "display_name": "Python 3 (ipykernel)",
   "language": "python",
   "name": "python3"
  },
  "language_info": {
   "codemirror_mode": {
    "name": "ipython",
    "version": 3
   },
   "file_extension": ".py",
   "mimetype": "text/x-python",
   "name": "python",
   "nbconvert_exporter": "python",
   "pygments_lexer": "ipython3",
   "version": "3.11.8"
  }
 },
 "nbformat": 4,
 "nbformat_minor": 5
}
