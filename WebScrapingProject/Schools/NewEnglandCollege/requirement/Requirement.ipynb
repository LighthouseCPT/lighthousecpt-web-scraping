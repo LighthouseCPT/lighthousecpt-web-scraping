{
 "cells": [
  {
   "cell_type": "code",
   "execution_count": 1,
   "id": "initial_id",
   "metadata": {
    "ExecuteTime": {
     "end_time": "2024-04-02T16:49:37.943892Z",
     "start_time": "2024-04-02T16:49:37.613686Z"
    }
   },
   "outputs": [],
   "source": [
    "import requests\n",
    "import re\n",
    "from bs4 import BeautifulSoup\n",
    "import pandas as pd\n",
    "import os\n",
    "pd.set_option('display.max_columns', None)\n",
    "pd.set_option('display.max_colwidth', None)\n",
    "TABLE = 'Requirement'"
   ]
  },
  {
   "cell_type": "code",
   "execution_count": 2,
   "id": "4edac1ca578f912b",
   "metadata": {
    "collapsed": false,
    "ExecuteTime": {
     "end_time": "2024-04-02T16:49:40.471305Z",
     "start_time": "2024-04-02T16:49:40.292300Z"
    }
   },
   "outputs": [],
   "source": [
    "headers = {'User-Agent': 'Mozilla/5.0 (Macintosh; Intel Mac OS X 10_11_5) AppleWebKit/537.36 (KHTML, like Gecko) Chrome/50.0.2661.102 Safari/537.36'}\n",
    "url = 'https://www.nec.edu/international'\n",
    "page = requests.get(url, headers=headers)\n",
    "\n",
    "with open(TABLE + '.html', 'w', encoding='utf-8') as file:\n",
    "    file.write(page.text)"
   ]
  },
  {
   "cell_type": "code",
   "execution_count": 3,
   "id": "288fd575-6f15-4864-b290-484534c51b62",
   "metadata": {
    "ExecuteTime": {
     "end_time": "2024-04-02T16:49:41.931805Z",
     "start_time": "2024-04-02T16:49:41.891497Z"
    }
   },
   "outputs": [],
   "source": [
    "with open(TABLE + '.html', 'r', encoding='utf-8') as file:\n",
    "    content = file.read()\n",
    "\n",
    "soup = BeautifulSoup(content, 'html.parser')"
   ]
  },
  {
   "cell_type": "code",
   "execution_count": 4,
   "id": "c49084b8-af23-4055-82c1-78e956b373c6",
   "metadata": {
    "ExecuteTime": {
     "end_time": "2024-04-02T16:49:43.546102Z",
     "start_time": "2024-04-02T16:49:43.541438Z"
    }
   },
   "outputs": [],
   "source": [
    "text = soup.find('h2', string='On-Campus MS Programs').find_next('h4', string='Admission Requirements').find_next('div').get_text(separator='\\n', strip=True)"
   ]
  },
  {
   "cell_type": "code",
   "execution_count": 5,
   "id": "ad7a43ba-b1e2-4eec-9831-ed4b357ae241",
   "metadata": {
    "ExecuteTime": {
     "end_time": "2024-04-02T16:49:44.677173Z",
     "start_time": "2024-04-02T16:49:44.674218Z"
    }
   },
   "outputs": [],
   "source": [
    "df = pd.DataFrame([text])"
   ]
  },
  {
   "cell_type": "code",
   "execution_count": 6,
   "id": "f632c8b3-bfef-4ad0-874b-bd63cda00686",
   "metadata": {
    "ExecuteTime": {
     "end_time": "2024-04-02T16:49:47.164475Z",
     "start_time": "2024-04-02T16:49:47.160287Z"
    }
   },
   "outputs": [],
   "source": [
    "df.to_csv(TABLE + '.csv')"
   ]
  },
  {
   "cell_type": "code",
   "outputs": [
    {
     "name": "stderr",
     "output_type": "stream",
     "text": [
      "[NbConvertApp] Converting notebook Requirement.ipynb to script\n",
      "[NbConvertApp] Writing 1056 bytes to Requirement.py\n"
     ]
    },
    {
     "data": {
      "text/plain": "0"
     },
     "execution_count": 8,
     "metadata": {},
     "output_type": "execute_result"
    }
   ],
   "source": [
    "command = f\"jupyter nbconvert --to script {TABLE}\"\n",
    "\n",
    "os.system(command)"
   ],
   "metadata": {
    "collapsed": false,
    "ExecuteTime": {
     "end_time": "2024-04-02T16:50:06.562504Z",
     "start_time": "2024-04-02T16:50:05.913710Z"
    }
   },
   "id": "142af06803b71a38",
   "execution_count": 8
  }
 ],
 "metadata": {
  "kernelspec": {
   "display_name": "Python 3 (ipykernel)",
   "language": "python",
   "name": "python3"
  },
  "language_info": {
   "codemirror_mode": {
    "name": "ipython",
    "version": 3
   },
   "file_extension": ".py",
   "mimetype": "text/x-python",
   "name": "python",
   "nbconvert_exporter": "python",
   "pygments_lexer": "ipython3",
   "version": "3.11.8"
  }
 },
 "nbformat": 4,
 "nbformat_minor": 5
}
