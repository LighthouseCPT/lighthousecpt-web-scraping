{
 "cells": [
  {
   "cell_type": "code",
   "execution_count": 9,
   "id": "initial_id",
   "metadata": {
    "ExecuteTime": {
     "end_time": "2024-04-22T18:48:20.258876Z",
     "start_time": "2024-04-22T18:48:20.251657Z"
    }
   },
   "outputs": [],
   "source": [
    "import re\n",
    "import requests\n",
    "from bs4 import BeautifulSoup\n",
    "from WebScrapingProject.Schools.ai_utils import *"
   ]
  },
  {
   "cell_type": "code",
   "execution_count": 10,
   "id": "9ca6db57-e9fc-443a-b988-5b4bc3e0ec38",
   "metadata": {},
   "outputs": [],
   "source": [
    "url1 = 'https://www.westcliff.edu/academics/college-of-business/doctor-of-business-administration-dba' \n",
    "page1 = requests.get(url1)\n",
    "soup1 = BeautifulSoup(page1.text, 'html.parser')\n",
    "url2 = 'https://www.westcliff.edu/academics/college-of-education/doctorate-of-education-edd' \n",
    "page2 = requests.get(url2)\n",
    "soup2 = BeautifulSoup(page2.text, 'html.parser')"
   ]
  },
  {
   "cell_type": "code",
   "execution_count": 16,
   "id": "ec03df7f-8a1e-4a50-a914-2dc061e24453",
   "metadata": {},
   "outputs": [],
   "source": [
    "x1 = extract_content(soup1, 'Doctor of Business Administration (DBA)', 'Start your application today!')\n",
    "x2 = extract_content(soup2, 'Doctor of Education in Leadership, Curriculum, and Instruction (EdD)', 'Start your application today!')"
   ]
  },
  {
   "cell_type": "code",
   "execution_count": 17,
   "id": "f465b4db-feb3-41c1-abf3-af2426d81425",
   "metadata": {},
   "outputs": [],
   "source": [
    "y1 = extract_inner_string(x1, 'Admissions Requirements', 'used.', include_end=True)\n",
    "y2 = extract_inner_string(x2, 'Admission Requirements', 'used.', include_end=True)\n",
    "final_text = y1 + '\\n\\n' + y2"
   ]
  },
  {
   "cell_type": "code",
   "execution_count": 18,
   "id": "068382cf-f6be-428b-8699-356a35e60d90",
   "metadata": {},
   "outputs": [
    {
     "data": {
      "text/plain": [
       "'Admissions Requirements\\nThe minimum academic requirements to apply to the Doctor of Business Administration Degree Program: An applicant with a Master-level degree and a 2.5 GPA from a regionally or nationally accredited institution can apply to Westcliff University. Master’s degrees obtained outside of the United States will only be accepted if they have been evaluated by a member in good standing with the National Association of Credential Evaluation Services (NACES) or another nationally recognized credentialing service. In this case the listed U.S. degree equivalency will be used.\\n\\nAdmission Requirements\\nFor acceptance into the\\nDoctor of Education (EdD) in Leadership Curriculum and Instruction\\nprogram applicants must satisfy the following criteria:\\nAn applicant with a graduate-level degree and a 2.5 GPA from a regionally or nationally accredited institution can apply to Westcliff University. Graduate degrees obtained outside of the United States will only be accepted if they have been evaluated by a member in good standing with the\\nNational Association of Credential Evaluation Services (NACES)\\nor another nationally recognized credentialing service. In this case the listed U.S. degree equivalency will be used.'"
      ]
     },
     "execution_count": 18,
     "metadata": {},
     "output_type": "execute_result"
    }
   ],
   "source": [
    "final_text"
   ]
  }
 ],
 "metadata": {
  "kernelspec": {
   "display_name": "Python 3 (ipykernel)",
   "language": "python",
   "name": "python3"
  },
  "language_info": {
   "codemirror_mode": {
    "name": "ipython",
    "version": 3
   },
   "file_extension": ".py",
   "mimetype": "text/x-python",
   "name": "python",
   "nbconvert_exporter": "python",
   "pygments_lexer": "ipython3",
   "version": "3.11.8"
  }
 },
 "nbformat": 4,
 "nbformat_minor": 5
}
