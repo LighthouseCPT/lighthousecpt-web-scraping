{
 "cells": [
  {
   "cell_type": "code",
   "execution_count": 1,
   "id": "initial_id",
   "metadata": {
    "ExecuteTime": {
     "end_time": "2024-03-21T19:55:29.738157Z",
     "start_time": "2024-03-21T19:55:29.431144Z"
    }
   },
   "outputs": [],
   "source": [
    "import os\n",
    "import requests\n",
    "import re\n",
    "from bs4 import BeautifulSoup\n",
    "import pandas as pd\n",
    "pd.set_option('display.max_columns', None)\n",
    "pd.set_option('display.max_colwidth', None)\n",
    "TABLE = 'Tuition'"
   ]
  },
  {
   "cell_type": "code",
   "execution_count": 2,
   "id": "af9145923d4d3f8e",
   "metadata": {
    "collapsed": false,
    "jupyter": {
     "outputs_hidden": false
    }
   },
   "outputs": [],
   "source": [
    "headers = {'User-Agent': 'Mozilla/5.0 (Macintosh; Intel Mac OS X 10_11_5) AppleWebKit/537.36 (KHTML, like Gecko) Chrome/50.0.2661.102 Safari/537.36'}\n",
    "url = 'https://www.ciam.edu/cost-aid#TuitionandFees'\n",
    "page = requests.get(url, headers=headers)\n",
    "\n",
    "\n",
    "with open(TABLE + '.html', 'w', encoding='utf-8') as file:\n",
    "    file.write(page.text)"
   ]
  },
  {
   "cell_type": "code",
   "execution_count": 3,
   "id": "589c343b-2ba5-4cca-b7cf-63ad54b6833d",
   "metadata": {},
   "outputs": [],
   "source": [
    "with open(TABLE + '.html', 'r', encoding='utf-8') as file:\n",
    "    content = file.read()\n",
    "\n",
    "soup = BeautifulSoup(content, 'html.parser')"
   ]
  },
  {
   "cell_type": "code",
   "execution_count": 4,
   "id": "14c3b7f4-dcfa-435c-a746-052372c55e85",
   "metadata": {},
   "outputs": [],
   "source": [
    "tbl1 = soup.find(string='Estimated Tuition Rates 2022-2023').find_next('table')"
   ]
  },
  {
   "cell_type": "code",
   "execution_count": 5,
   "id": "bf148497-e283-400f-94ad-cd46b168c455",
   "metadata": {},
   "outputs": [
    {
     "name": "stderr",
     "output_type": "stream",
     "text": [
      "/var/folders/jl/k_qw56hn2dx0cbwjpqwf8k3m0000gn/T/ipykernel_14519/2770625120.py:1: FutureWarning: Passing literal html to 'read_html' is deprecated and will be removed in a future version. To read from a literal string, wrap it in a 'StringIO' object.\n",
      "  df1 = pd.read_html(str(tbl1))[0]\n"
     ]
    },
    {
     "data": {
      "text/html": [
       "<div>\n",
       "<style scoped>\n",
       "    .dataframe tbody tr th:only-of-type {\n",
       "        vertical-align: middle;\n",
       "    }\n",
       "\n",
       "    .dataframe tbody tr th {\n",
       "        vertical-align: top;\n",
       "    }\n",
       "\n",
       "    .dataframe thead th {\n",
       "        text-align: right;\n",
       "    }\n",
       "</style>\n",
       "<table border=\"1\" class=\"dataframe\">\n",
       "  <thead>\n",
       "    <tr style=\"text-align: right;\">\n",
       "      <th></th>\n",
       "      <th>Master's of Business Administration in Executive Management</th>\n",
       "      <th>Tuition</th>\n",
       "    </tr>\n",
       "  </thead>\n",
       "  <tbody>\n",
       "    <tr>\n",
       "      <th>0</th>\n",
       "      <td>Full-Time Status (2 courses per term)</td>\n",
       "      <td>$4,000 per term</td>\n",
       "    </tr>\n",
       "    <tr>\n",
       "      <th>1</th>\n",
       "      <td>Part-Time Status (1 course per term)</td>\n",
       "      <td>$2,000 per term</td>\n",
       "    </tr>\n",
       "    <tr>\n",
       "      <th>2</th>\n",
       "      <td>Tution Costs Per Credit</td>\n",
       "      <td>$667</td>\n",
       "    </tr>\n",
       "    <tr>\n",
       "      <th>3</th>\n",
       "      <td>Total Tuition:</td>\n",
       "      <td>$24,000 for entire program</td>\n",
       "    </tr>\n",
       "  </tbody>\n",
       "</table>\n",
       "</div>"
      ],
      "text/plain": [
       "  Master's of Business Administration in Executive Management  \\\n",
       "0                       Full-Time Status (2 courses per term)   \n",
       "1                        Part-Time Status (1 course per term)   \n",
       "2                                     Tution Costs Per Credit   \n",
       "3                                              Total Tuition:   \n",
       "\n",
       "                      Tuition  \n",
       "0             $4,000 per term  \n",
       "1             $2,000 per term  \n",
       "2                        $667  \n",
       "3  $24,000 for entire program  "
      ]
     },
     "execution_count": 5,
     "metadata": {},
     "output_type": "execute_result"
    }
   ],
   "source": [
    "df1 = pd.read_html(str(tbl1))[0]\n",
    "df1"
   ]
  },
  {
   "cell_type": "code",
   "execution_count": 6,
   "id": "2d1e95a8-2ace-43be-81ed-0ee73c388f85",
   "metadata": {},
   "outputs": [
    {
     "name": "stderr",
     "output_type": "stream",
     "text": [
      "/var/folders/jl/k_qw56hn2dx0cbwjpqwf8k3m0000gn/T/ipykernel_14519/2414077094.py:2: FutureWarning: Passing literal html to 'read_html' is deprecated and will be removed in a future version. To read from a literal string, wrap it in a 'StringIO' object.\n",
      "  df2 = pd.read_html(str(tbl2))[0]\n"
     ]
    },
    {
     "data": {
      "text/html": [
       "<div>\n",
       "<style scoped>\n",
       "    .dataframe tbody tr th:only-of-type {\n",
       "        vertical-align: middle;\n",
       "    }\n",
       "\n",
       "    .dataframe tbody tr th {\n",
       "        vertical-align: top;\n",
       "    }\n",
       "\n",
       "    .dataframe thead th {\n",
       "        text-align: right;\n",
       "    }\n",
       "</style>\n",
       "<table border=\"1\" class=\"dataframe\">\n",
       "  <thead>\n",
       "    <tr style=\"text-align: right;\">\n",
       "      <th></th>\n",
       "      <th>Category:</th>\n",
       "      <th>Fees:</th>\n",
       "    </tr>\n",
       "  </thead>\n",
       "  <tbody>\n",
       "    <tr>\n",
       "      <th>0</th>\n",
       "      <td>Application Fee (Non-Refundable)</td>\n",
       "      <td>$75</td>\n",
       "    </tr>\n",
       "    <tr>\n",
       "      <th>1</th>\n",
       "      <td>STRF Fee (Non-Refundable)</td>\n",
       "      <td>$60</td>\n",
       "    </tr>\n",
       "    <tr>\n",
       "      <th>2</th>\n",
       "      <td>Estimated Total Textbook Cost</td>\n",
       "      <td>No Additional Cost</td>\n",
       "    </tr>\n",
       "    <tr>\n",
       "      <th>3</th>\n",
       "      <td>Estimated Parking Fee</td>\n",
       "      <td>No Additional Cost</td>\n",
       "    </tr>\n",
       "    <tr>\n",
       "      <th>4</th>\n",
       "      <td>INT/CPT Registration Fee</td>\n",
       "      <td>$100*</td>\n",
       "    </tr>\n",
       "    <tr>\n",
       "      <th>5</th>\n",
       "      <td>Total Estimated Program Associated Fees:</td>\n",
       "      <td>$235</td>\n",
       "    </tr>\n",
       "  </tbody>\n",
       "</table>\n",
       "</div>"
      ],
      "text/plain": [
       "                                  Category:               Fees:\n",
       "0          Application Fee (Non-Refundable)                 $75\n",
       "1                 STRF Fee (Non-Refundable)                 $60\n",
       "2             Estimated Total Textbook Cost  No Additional Cost\n",
       "3                     Estimated Parking Fee  No Additional Cost\n",
       "4                  INT/CPT Registration Fee               $100*\n",
       "5  Total Estimated Program Associated Fees:                $235"
      ]
     },
     "execution_count": 6,
     "metadata": {},
     "output_type": "execute_result"
    }
   ],
   "source": [
    "tbl2 = soup.find(string='Student Fees 2022-2023').find_next('table')\n",
    "df2 = pd.read_html(str(tbl2))[0]\n",
    "df2"
   ]
  },
  {
   "cell_type": "code",
   "execution_count": 9,
   "id": "5e20c1f9-7b40-45fd-828d-0cfc85526572",
   "metadata": {
    "scrolled": true
   },
   "outputs": [
    {
     "data": {
      "text/html": [
       "<div>\n",
       "<style scoped>\n",
       "    .dataframe tbody tr th:only-of-type {\n",
       "        vertical-align: middle;\n",
       "    }\n",
       "\n",
       "    .dataframe tbody tr th {\n",
       "        vertical-align: top;\n",
       "    }\n",
       "\n",
       "    .dataframe thead th {\n",
       "        text-align: right;\n",
       "    }\n",
       "</style>\n",
       "<table border=\"1\" class=\"dataframe\">\n",
       "  <thead>\n",
       "    <tr style=\"text-align: right;\">\n",
       "      <th></th>\n",
       "      <th>Cost of Attendance</th>\n",
       "    </tr>\n",
       "  </thead>\n",
       "  <tbody>\n",
       "    <tr>\n",
       "      <th>0</th>\n",
       "      <td>Total Tuition: $24,000.00 for entire program\\nTotal Estimated Program Associated Fees: $235.00\\nTOTAL ESTIMATED PROGRAM COSTS (TUITION + FEES): $24,235.00</td>\n",
       "    </tr>\n",
       "  </tbody>\n",
       "</table>\n",
       "</div>"
      ],
      "text/plain": [
       "                                                                                                                                           Cost of Attendance\n",
       "0  Total Tuition: $24,000.00 for entire program\\nTotal Estimated Program Associated Fees: $235.00\\nTOTAL ESTIMATED PROGRAM COSTS (TUITION + FEES): $24,235.00"
      ]
     },
     "execution_count": 9,
     "metadata": {},
     "output_type": "execute_result"
    }
   ],
   "source": [
    "head_str = 'Cost of Attendance'\n",
    "_ = soup.find(string=head_str).find_next('ul').get_text(strip=True, separator='\\n')\n",
    "df3 = pd.DataFrame([_], columns=[head_str])\n",
    "df3"
   ]
  },
  {
   "cell_type": "code",
   "execution_count": 11,
   "id": "62476312-d44d-45f4-a5cc-b1c782c77f8f",
   "metadata": {},
   "outputs": [],
   "source": [
    "df4 = pd.concat([df1, df2, df3])\n",
    "df4.to_csv(TABLE + '.csv')"
   ]
  }
 ],
 "metadata": {
  "kernelspec": {
   "display_name": "Python 3 (ipykernel)",
   "language": "python",
   "name": "python3"
  },
  "language_info": {
   "codemirror_mode": {
    "name": "ipython",
    "version": 3
   },
   "file_extension": ".py",
   "mimetype": "text/x-python",
   "name": "python",
   "nbconvert_exporter": "python",
   "pygments_lexer": "ipython3",
   "version": "3.11.8"
  }
 },
 "nbformat": 4,
 "nbformat_minor": 5
}
