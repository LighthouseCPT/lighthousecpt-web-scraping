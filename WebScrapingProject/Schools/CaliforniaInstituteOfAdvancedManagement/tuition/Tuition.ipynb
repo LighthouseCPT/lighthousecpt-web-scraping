{
 "cells": [
  {
   "cell_type": "code",
   "execution_count": 27,
   "id": "initial_id",
   "metadata": {
    "ExecuteTime": {
     "end_time": "2024-04-16T18:51:37.206082Z",
     "start_time": "2024-04-16T18:51:37.201539Z"
    }
   },
   "outputs": [],
   "source": [
    "import os\n",
    "import requests\n",
    "import re\n",
    "from bs4 import BeautifulSoup, NavigableString\n",
    "import pandas as pd\n",
    "from io import StringIO\n",
    "from WebScrapingProject.Schools.ai_utils import *\n",
    "pd.set_option('display.max_columns', None)\n",
    "pd.set_option('display.max_colwidth', None)\n",
    "TABLE = 'Tuition'"
   ]
  },
  {
   "cell_type": "code",
   "execution_count": 2,
   "id": "af9145923d4d3f8e",
   "metadata": {
    "collapsed": false
   },
   "outputs": [],
   "source": [
    "headers = {'User-Agent': 'Mozilla/5.0 (Macintosh; Intel Mac OS X 10_11_5) AppleWebKit/537.36 (KHTML, like Gecko) Chrome/50.0.2661.102 Safari/537.36'}\n",
    "url = 'https://www.ciam.edu/cost-aid#TuitionandFees'\n",
    "page = requests.get(url, headers=headers)"
   ]
  },
  {
   "cell_type": "code",
   "execution_count": 3,
   "id": "589c343b-2ba5-4cca-b7cf-63ad54b6833d",
   "metadata": {},
   "outputs": [],
   "source": [
    "soup = BeautifulSoup(page.text, 'html.parser')"
   ]
  },
  {
   "cell_type": "code",
   "execution_count": 4,
   "id": "14c3b7f4-dcfa-435c-a746-052372c55e85",
   "metadata": {},
   "outputs": [],
   "source": [
    "content = ''\n",
    "\n",
    "start = soup.find(string='Tuition & Fees')\n",
    "end = soup.find(string='Application Deadlines')\n",
    "\n",
    "if start and end:  # ensuring both start and end points are found\n",
    "    for element in start.parent.find_all_next(string=True):  # iterate over next elements in tree\n",
    "        if element == end:\n",
    "            break  # stop iteration when reaching 'end' string\n",
    "        if isinstance(element, NavigableString):\n",
    "            content += element.strip() + '\\n'  # add a newline character after each element\n",
    "\n",
    "\n",
    "content = re.sub('\\n+', '\\n', content)\n",
    "content = content.replace(\",\", \"\")"
   ]
  },
  {
   "cell_type": "code",
   "execution_count": 18,
   "id": "e78c9d56-2619-43a5-8b9c-c38c30920bf2",
   "metadata": {},
   "outputs": [
    {
     "name": "stdout",
     "output_type": "stream",
     "text": [
      "Tuition & Fees\n",
      "Estimated Tuition Rates 2022-2023\n",
      "This chart estimates the cost of attending CIAM for two years as a graduate student. For a significant proportion of our students these expenses are offset by scholarships and aid. Keep in mind that your total cost may vary depending on your personal expenses and the degree or concentration you choose.\n",
      "Master's of Business Administration in Executive Management\n",
      "Tuition\n",
      "Full-Time Status (2 courses per term)\n",
      "$4000 per term\n",
      "Part-Time Status (1 course per term)\n",
      "$2000 per term\n",
      "Tution Costs Per Credit\n",
      "$667\n",
      "Total Tuition:\n",
      "$24000 for entire program\n",
      "Student Fees 2022-2023\n",
      "Category:\n",
      "Fees:\n",
      "Application Fee (Non-Refundable)\n",
      "$75\n",
      "STRF Fee (Non-Refundable)\n",
      "$60\n",
      "Estimated Total Textbook Cost\n",
      "No Additional Cost\n",
      "Estimated Parking Fee\n",
      "No Additional Cost\n",
      "INT/CPT Registration Fee\n",
      "$100*\n",
      "Total Estimated Program Associated Fees:\n",
      "$235\n",
      "*Students are required to successfully complete INT501 & INT599 to graduate with a $50 registration fee for each course; international students require CPT approval before registering for INT courses.\n",
      "Cost of Attendance\n",
      "Total Tuition: $24000.00 for entire program\n",
      "Total Estimated Program Associated Fees: $235.00\n",
      "TOTAL ESTIMATED PROGRAM COSTS (TUITION + FEES): $24235.00\n"
     ]
    }
   ],
   "source": [
    "print(content)"
   ]
  },
  {
   "cell_type": "code",
   "execution_count": 21,
   "id": "6cfd08d9-1634-45a9-a433-8115b17a4c35",
   "metadata": {},
   "outputs": [
    {
     "name": "stderr",
     "output_type": "stream",
     "text": [
      "[2024-04-16 16:19:14,272] 12 WebScrapingProject.Schools.ai_utils - DEBUG - Returning prompt: I have extracted tuition fee details from a webpage. The information can include program name, tuition per credit or per term, additional applicable fees, and the estimated overall cost of attendance. Prepare a CSV-like output that represents these categories of information, using an appropriate format based on the structure of the provided data. Each entry should be listed on a new line with elements separated by commas. All currency amounts should be represented in 'USD' format. Avoid any additional bibliographical conversation or content in the response. Here is the obtained text: \n",
      "'Tuition & Fees\n",
      "Estimated Tuition Rates 2022-2023\n",
      "This chart estimates the cost of attending CIAM for two years as a graduate student. For a significant proportion of our students these expenses are offset by scholarships and aid. Keep in mind that your total cost may vary depending on your personal expenses and the degree or concentration you choose.\n",
      "Master's of Business Administration in Executive Management\n",
      "Tuition\n",
      "Full-Time Status (2 courses per term)\n",
      "$4000 per term\n",
      "Part-Time Status (1 course per term)\n",
      "$2000 per term\n",
      "Tution Costs Per Credit\n",
      "$667\n",
      "Total Tuition:\n",
      "$24000 for entire program\n",
      "Student Fees 2022-2023\n",
      "Category:\n",
      "Fees:\n",
      "Application Fee (Non-Refundable)\n",
      "$75\n",
      "STRF Fee (Non-Refundable)\n",
      "$60\n",
      "Estimated Total Textbook Cost\n",
      "No Additional Cost\n",
      "Estimated Parking Fee\n",
      "No Additional Cost\n",
      "INT/CPT Registration Fee\n",
      "$100*\n",
      "Total Estimated Program Associated Fees:\n",
      "$235\n",
      "*Students are required to successfully complete INT501 & INT599 to graduate with a $50 registration fee for each course; international students require CPT approval before registering for INT courses.\n",
      "Cost of Attendance\n",
      "Total Tuition: $24000.00 for entire program\n",
      "Total Estimated Program Associated Fees: $235.00\n",
      "TOTAL ESTIMATED PROGRAM COSTS (TUITION + FEES): $24235.00\n",
      "'\n",
      "[2024-04-16 16:19:21,093] 20 WebScrapingProject.Schools.ai_utils - DEBUG - Successfully generated response: ```\n",
      "Program Name,Tuition Status,Tuition Per Term,Tuition Per Credit,Total Tuition,Application Fee,STRF Fee,Textbook Cost,Parking Fee,INT/CPT Registration Fee,Total Estimated Program Associated Fees,Total Estimated Program Costs\n",
      "Master's of Business Administration in Executive Management,Full-Time,$4000,USD 667,$24000,$75,$60,No Additional Cost,No Additional Cost,$100,$235,$24235\n",
      "Master's of Business Administration in Executive Management,Part-Time,$2000,USD 667,$24000,$75,$60,No Additional Cost,No Additional Cost,$100,$235,$24235\n",
      "```\n",
      "[2024-04-16 16:19:28,985] 20 WebScrapingProject.Schools.ai_utils - DEBUG - Successfully generated response: ```\n",
      "Program Name,Tuition Status,Tuition Per Term,Tuition Per Credit,Total Tuition,Application Fee,STRF Fee,Textbook Cost,Parking Fee,INT/CPT Registration Fee,Total Estimated Program Associated Fees,Total Estimated Program Costs\n",
      "Master's of Business Administration in Executive Management,Full-Time,$4000,USD 667,$24000,USD 75,USD 60,No Additional Cost,No Additional Cost,USD 100,USD 235,USD 24235\n",
      "Master's of Business Administration in Executive Management,Part-Time,$2000,USD 667,$24000,USD 75,USD 60,No Additional Cost,No Additional Cost,USD 100,USD 235,USD 24235\n",
      "```\n",
      "[2024-04-16 16:19:40,585] 20 WebScrapingProject.Schools.ai_utils - DEBUG - Successfully generated response: ```\n",
      "Program Name,Tuition Status,Tuition Per Term,Tuition Per Credit,Total Tuition,Application Fee,STRF Fee,Estimated Textbook Cost,Estimated Parking Fee,INT/CPT Registration Fee,Total Estimated Program Associated Fees,Total Estimated Program Costs\n",
      "Master's of Business Administration in Executive Management,Full-Time,$4000,USD 667,$24000,USD 75,USD 60,No Additional Cost,No Additional Cost,USD 100,USD 235,USD 24235\n",
      "Master's of Business Administration in Executive Management,Part-Time,$2000,USD 667,$24000,USD 75,USD 60,No Additional Cost,No Additional Cost,USD 100,USD 235,USD 24235\n",
      "```\n",
      "[2024-04-16 16:19:52,108] 20 WebScrapingProject.Schools.ai_utils - DEBUG - Successfully generated response: ```\n",
      "Program Name,Tuition Status,Tuition Per Term,Tuition Per Credit,Total Tuition,Application Fee,STRF Fee,Textbook Cost,Parking Fee,INT/CPT Registration Fee,Total Estimated Program Associated Fees,Total Estimated Program Costs\n",
      "Master's of Business Administration in Executive Management,Full-Time,$4000 USD,,$24000 USD,$75 USD,$60 USD,No Additional Cost,No Additional Cost,$100 USD,$235 USD,$24235 USD\n",
      "Master's of Business Administration in Executive Management,Part-Time,$2000 USD,,$24000 USD,$75 USD,$60 USD,No Additional Cost,No Additional Cost,$100 USD,$235 USD,$24235 USD\n",
      "Master's of Business Administration in Executive Management,,,$667 USD,$24000 USD,$75 USD,$60 USD,No Additional Cost,No Additional Cost,$100 USD,$235 USD,$24235 USD\n",
      "```\n",
      "[2024-04-16 16:19:58,538] 20 WebScrapingProject.Schools.ai_utils - DEBUG - Successfully generated response: ```\n",
      "Program Name,Tuition Status,Tuition Per Term,Tuition Per Credit,Total Tuition,Application Fee,STRF Fee,Textbook Cost,Parking Fee,INT/CPT Registration Fee,Total Estimated Program Associated Fees,Total Estimated Program Costs\n",
      "Master's of Business Administration in Executive Management,Full-Time,$4000 USD,$667 USD,$24000 USD,$75 USD,$60 USD,No Additional Cost,No Additional Cost,$100 USD,$235 USD,$24235 USD\n",
      "Master's of Business Administration in Executive Management,Part-Time,$2000 USD,$667 USD,$24000 USD,$75 USD,$60 USD,No Additional Cost,No Additional Cost,$100 USD,$235 USD,$24235 USD\n",
      "```\n",
      "[2024-04-16 16:20:08,553] 20 WebScrapingProject.Schools.ai_utils - DEBUG - Successfully generated response: ```\n",
      "Program Name,Tuition Status,Tuition Cost,Per,Credit Cost,Total Tuition,Application Fee,STRF Fee,Textbook Cost,Parking Fee,INT/CPT Registration Fee,Total Program Fees,Estimated Total Cost\n",
      "Master's of Business Administration in Executive Management,Full-Time,$4000,Per Term,$667,$24000,$75,$60,No Additional Cost,No Additional Cost,$100,$235,$24235\n",
      "Master's of Business Administration in Executive Management,Part-Time,$2000,Per Term,$667,$24000,$75,$60,No Additional Cost,No Additional Cost,$100,$235,$24235\n",
      "```\n",
      "[2024-04-16 16:20:17,715] 20 WebScrapingProject.Schools.ai_utils - DEBUG - Successfully generated response: ```\n",
      "Program Name,Tuition Status,Tuition Per Term,Tuition Per Credit,Total Tuition,Application Fee,STRF Fee,Total Textbook Cost,Parking Fee,INT/CPT Registration Fee,Total Estimated Program Associated Fees,Total Estimated Program Costs\n",
      "Master's of Business Administration in Executive Management,Full-Time,$4000,USD 667,$24000,USD 75,USD 60,No Additional Cost,No Additional Cost,USD 100,USD 235,USD 24235\n",
      "Master's of Business Administration in Executive Management,Part-Time,$2000,USD 667,$24000,USD 75,USD 60,No Additional Cost,No Additional Cost,USD 100,USD 235,USD 24235\n",
      "```\n",
      "[2024-04-16 16:20:26,499] 20 WebScrapingProject.Schools.ai_utils - DEBUG - Successfully generated response: ```\n",
      "Program Name,Tuition Status,Tuition Per Term,Tuition Per Credit,Total Tuition,Application Fee,STRF Fee,Textbook Cost,Parking Fee,INT/CPT Registration Fee,Total Estimated Program Associated Fees,Total Estimated Program Costs\n",
      "Master's of Business Administration in Executive Management,Full-Time,$4000,USD 667,$24000,USD 75,USD 60,No Additional Cost,No Additional Cost,USD 100,USD 235,USD 24235\n",
      "Master's of Business Administration in Executive Management,Part-Time,$2000,USD 667,$24000,USD 75,USD 60,No Additional Cost,No Additional Cost,USD 100,USD 235,USD 24235\n",
      "```\n",
      "[2024-04-16 16:20:26,501] 41 WebScrapingProject.Schools.ai_utils - INFO - The responses matched 2 times: ```\n",
      "Program Name,Tuition Status,Tuition Per Term,Tuition Per Credit,Total Tuition,Application Fee,STRF Fee,Textbook Cost,Parking Fee,INT/CPT Registration Fee,Total Estimated Program Associated Fees,Total Estimated Program Costs\n",
      "Master's of Business Administration in Executive Management,Full-Time,$4000,USD 667,$24000,USD 75,USD 60,No Additional Cost,No Additional Cost,USD 100,USD 235,USD 24235\n",
      "Master's of Business Administration in Executive Management,Part-Time,$2000,USD 667,$24000,USD 75,USD 60,No Additional Cost,No Additional Cost,USD 100,USD 235,USD 24235\n",
      "```\n"
     ]
    }
   ],
   "source": [
    "output_text = get_confident_response(\n",
    "        extract_tuition_to_csv(content),\n",
    "        model='gpt-4-0125-preview',\n",
    "        temperature=0.4,\n",
    "        identical_responses_needed=2,\n",
    "        max_attempts=10\n",
    "    )\n",
    "\n",
    "output_text = output_text.lstrip(\"```\").rstrip(\"```\")  # This removes backticks from start and end\n",
    "output_text = output_text.strip()  # This removes leading and trailing newlines"
   ]
  },
  {
   "cell_type": "code",
   "execution_count": 22,
   "id": "22606d11-068d-48d8-bec4-d2bbc9cc25df",
   "metadata": {},
   "outputs": [],
   "source": [
    "data = StringIO(output_text)\n",
    "df = pd.read_csv(data, sep=',')"
   ]
  },
  {
   "cell_type": "code",
   "execution_count": 23,
   "id": "446f59ab-deb6-4b23-a62b-e09d5dcc31e7",
   "metadata": {},
   "outputs": [
    {
     "data": {
      "text/html": [
       "<div>\n",
       "<style scoped>\n",
       "    .dataframe tbody tr th:only-of-type {\n",
       "        vertical-align: middle;\n",
       "    }\n",
       "\n",
       "    .dataframe tbody tr th {\n",
       "        vertical-align: top;\n",
       "    }\n",
       "\n",
       "    .dataframe thead th {\n",
       "        text-align: right;\n",
       "    }\n",
       "</style>\n",
       "<table border=\"1\" class=\"dataframe\">\n",
       "  <thead>\n",
       "    <tr style=\"text-align: right;\">\n",
       "      <th></th>\n",
       "      <th>Program Name</th>\n",
       "      <th>Tuition Status</th>\n",
       "      <th>Tuition Per Term</th>\n",
       "      <th>Tuition Per Credit</th>\n",
       "      <th>Total Tuition</th>\n",
       "      <th>Application Fee</th>\n",
       "      <th>STRF Fee</th>\n",
       "      <th>Textbook Cost</th>\n",
       "      <th>Parking Fee</th>\n",
       "      <th>INT/CPT Registration Fee</th>\n",
       "      <th>Total Estimated Program Associated Fees</th>\n",
       "      <th>Total Estimated Program Costs</th>\n",
       "    </tr>\n",
       "  </thead>\n",
       "  <tbody>\n",
       "    <tr>\n",
       "      <th>0</th>\n",
       "      <td>Master's of Business Administration in Executive Management</td>\n",
       "      <td>Full-Time</td>\n",
       "      <td>$4000</td>\n",
       "      <td>USD 667</td>\n",
       "      <td>$24000</td>\n",
       "      <td>USD 75</td>\n",
       "      <td>USD 60</td>\n",
       "      <td>No Additional Cost</td>\n",
       "      <td>No Additional Cost</td>\n",
       "      <td>USD 100</td>\n",
       "      <td>USD 235</td>\n",
       "      <td>USD 24235</td>\n",
       "    </tr>\n",
       "    <tr>\n",
       "      <th>1</th>\n",
       "      <td>Master's of Business Administration in Executive Management</td>\n",
       "      <td>Part-Time</td>\n",
       "      <td>$2000</td>\n",
       "      <td>USD 667</td>\n",
       "      <td>$24000</td>\n",
       "      <td>USD 75</td>\n",
       "      <td>USD 60</td>\n",
       "      <td>No Additional Cost</td>\n",
       "      <td>No Additional Cost</td>\n",
       "      <td>USD 100</td>\n",
       "      <td>USD 235</td>\n",
       "      <td>USD 24235</td>\n",
       "    </tr>\n",
       "  </tbody>\n",
       "</table>\n",
       "</div>"
      ],
      "text/plain": [
       "                                                  Program Name Tuition Status  \\\n",
       "0  Master's of Business Administration in Executive Management      Full-Time   \n",
       "1  Master's of Business Administration in Executive Management      Part-Time   \n",
       "\n",
       "  Tuition Per Term Tuition Per Credit Total Tuition Application Fee STRF Fee  \\\n",
       "0            $4000            USD 667        $24000          USD 75   USD 60   \n",
       "1            $2000            USD 667        $24000          USD 75   USD 60   \n",
       "\n",
       "        Textbook Cost         Parking Fee INT/CPT Registration Fee  \\\n",
       "0  No Additional Cost  No Additional Cost                  USD 100   \n",
       "1  No Additional Cost  No Additional Cost                  USD 100   \n",
       "\n",
       "  Total Estimated Program Associated Fees Total Estimated Program Costs  \n",
       "0                                 USD 235                     USD 24235  \n",
       "1                                 USD 235                     USD 24235  "
      ]
     },
     "execution_count": 23,
     "metadata": {},
     "output_type": "execute_result"
    }
   ],
   "source": [
    "df"
   ]
  },
  {
   "cell_type": "code",
   "execution_count": 24,
   "id": "f8ab834c-9a70-47dd-b827-2b00ee16d69a",
   "metadata": {},
   "outputs": [],
   "source": [
    "df.to_csv('test.csv')"
   ]
  },
  {
   "cell_type": "code",
   "execution_count": 29,
   "id": "b7a483db-84cc-4463-9aac-5e5bdbeed9d5",
   "metadata": {},
   "outputs": [
    {
     "name": "stderr",
     "output_type": "stream",
     "text": [
      "[NbConvertApp] Converting notebook Tuition.ipynb to script\n",
      "[NbConvertApp] Writing 2791 bytes to Tuition.py\n"
     ]
    },
    {
     "data": {
      "text/plain": [
       "0"
      ]
     },
     "execution_count": 29,
     "metadata": {},
     "output_type": "execute_result"
    }
   ],
   "source": [
    "command = f\"jupyter nbconvert --to script {TABLE}\"\n",
    "\n",
    "os.system(command)"
   ]
  }
 ],
 "metadata": {
  "kernelspec": {
   "display_name": "Python 3 (ipykernel)",
   "language": "python",
   "name": "python3"
  },
  "language_info": {
   "codemirror_mode": {
    "name": "ipython",
    "version": 3
   },
   "file_extension": ".py",
   "mimetype": "text/x-python",
   "name": "python",
   "nbconvert_exporter": "python",
   "pygments_lexer": "ipython3",
   "version": "3.11.8"
  }
 },
 "nbformat": 4,
 "nbformat_minor": 5
}
