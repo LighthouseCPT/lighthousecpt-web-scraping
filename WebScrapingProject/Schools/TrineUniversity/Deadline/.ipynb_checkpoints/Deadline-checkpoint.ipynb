{
 "cells": [
  {
   "cell_type": "code",
   "execution_count": 3,
   "id": "initial_id",
   "metadata": {
    "ExecuteTime": {
     "end_time": "2024-03-26T14:24:53.772478Z",
     "start_time": "2024-03-26T14:24:53.490553Z"
    }
   },
   "outputs": [],
   "source": [
    "import requests\n",
    "from bs4 import BeautifulSoup\n",
    "import pandas as pd\n",
    "pd.set_option('display.max_columns', None)\n",
    "pd.set_option('display.max_colwidth', None)\n",
    "from io import StringIO\n",
    "TABLE = 'Deadline'\n",
    "# columns = ['Gradaute', 'Doctor']\n",
    "# df = pd.DataFrame(columns=columns)"
   ]
  },
  {
   "cell_type": "code",
   "execution_count": 4,
   "id": "634f7302bbac9fa2",
   "metadata": {
    "collapsed": false,
    "jupyter": {
     "outputs_hidden": false
    }
   },
   "outputs": [],
   "source": [
    "url = 'https://www.trine.edu/online/about/academic-calendar.aspx'\n",
    "page = requests.get(url)\n",
    "\n",
    "with open(TABLE + '.html', 'w', encoding='utf-8') as file:\n",
    "    file.write(page.text)"
   ]
  },
  {
   "cell_type": "code",
   "execution_count": 5,
   "id": "2eb661df-41c7-4f82-8328-8ac8e3000cf6",
   "metadata": {},
   "outputs": [],
   "source": [
    "with open(TABLE + '.html', 'r', encoding='utf-8') as file:\n",
    "    content = file.read()"
   ]
  },
  {
   "cell_type": "code",
   "execution_count": 7,
   "id": "91b434e4-1f72-49d2-b80f-f3106e901ece",
   "metadata": {},
   "outputs": [],
   "source": [
    "def header_exists(table):\n",
    "    thead = table.find('thead')\n",
    "    return thead is not None\n",
    "\n",
    "soup = BeautifulSoup(content, 'html.parser')\n",
    "tables = soup.find_all('table')\n",
    "\n",
    "df_list = []\n",
    "for table in tables:\n",
    "    h3 = table.find_previous_sibling('h3')\n",
    "    if h3 is not None:\n",
    "        str_io = StringIO(str(table))\n",
    "        if header_exists(table):\n",
    "            temp_df = pd.read_html(str_io)[0]\n",
    "        else:\n",
    "            temp_df = pd.read_html(str_io, header=None)[0]\n",
    "            temp_df.columns = ['Date', 'Information']\n",
    "            \n",
    "        temp_df['Term'] = h3.get_text()\n",
    "        df_list.append(temp_df)\n",
    "\n",
    "df = pd.concat(df_list, ignore_index=True)\n",
    "df.to_csv(TABLE + '.csv')"
   ]
  }
 ],
 "metadata": {
  "kernelspec": {
   "display_name": "Python 3 (ipykernel)",
   "language": "python",
   "name": "python3"
  },
  "language_info": {
   "codemirror_mode": {
    "name": "ipython",
    "version": 3
   },
   "file_extension": ".py",
   "mimetype": "text/x-python",
   "name": "python",
   "nbconvert_exporter": "python",
   "pygments_lexer": "ipython3",
   "version": "3.11.8"
  }
 },
 "nbformat": 4,
 "nbformat_minor": 5
}
