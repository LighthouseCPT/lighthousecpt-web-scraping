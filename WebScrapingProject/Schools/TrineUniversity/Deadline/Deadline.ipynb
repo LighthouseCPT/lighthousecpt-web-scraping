{
 "cells": [
  {
   "cell_type": "code",
   "execution_count": 2,
   "id": "initial_id",
   "metadata": {
    "ExecuteTime": {
     "end_time": "2024-04-02T16:22:30.642500Z",
     "start_time": "2024-04-02T16:22:30.639086Z"
    }
   },
   "outputs": [],
   "source": [
    "import requests\n",
    "from bs4 import BeautifulSoup\n",
    "import pandas as pd\n",
    "pd.set_option('display.max_columns', None)\n",
    "pd.set_option('display.max_colwidth', None)\n",
    "from io import StringIO\n",
    "import os\n",
    "TABLE = 'Deadline'\n",
    "# columns = ['Gradaute', 'Doctor']\n",
    "# df = pd.DataFrame(columns=columns)"
   ]
  },
  {
   "cell_type": "code",
   "execution_count": 3,
   "id": "634f7302bbac9fa2",
   "metadata": {
    "collapsed": false,
    "ExecuteTime": {
     "end_time": "2024-04-02T16:22:31.186047Z",
     "start_time": "2024-04-02T16:22:30.644301Z"
    }
   },
   "outputs": [],
   "source": [
    "url = 'https://www.trine.edu/online/about/academic-calendar.aspx'\n",
    "page = requests.get(url)\n",
    "\n",
    "with open(TABLE + '.html', 'w', encoding='utf-8') as file:\n",
    "    file.write(page.text)"
   ]
  },
  {
   "cell_type": "code",
   "execution_count": 4,
   "id": "2eb661df-41c7-4f82-8328-8ac8e3000cf6",
   "metadata": {
    "ExecuteTime": {
     "end_time": "2024-04-02T16:22:31.189094Z",
     "start_time": "2024-04-02T16:22:31.186962Z"
    }
   },
   "outputs": [],
   "source": [
    "with open(TABLE + '.html', 'r', encoding='utf-8') as file:\n",
    "    content = file.read()"
   ]
  },
  {
   "cell_type": "code",
   "execution_count": 5,
   "id": "91b434e4-1f72-49d2-b80f-f3106e901ece",
   "metadata": {
    "ExecuteTime": {
     "end_time": "2024-04-02T16:22:31.213113Z",
     "start_time": "2024-04-02T16:22:31.189807Z"
    }
   },
   "outputs": [],
   "source": [
    "def header_exists(table):\n",
    "    thead = table.find('thead')\n",
    "    return thead is not None\n",
    "\n",
    "soup = BeautifulSoup(content, 'html.parser')\n",
    "tables = soup.find_all('table')\n",
    "\n",
    "df_list = []\n",
    "for table in tables:\n",
    "    h3 = table.find_previous_sibling('h3')\n",
    "    if h3 is not None:\n",
    "        str_io = StringIO(str(table))\n",
    "        if header_exists(table):\n",
    "            temp_df = pd.read_html(str_io)[0]\n",
    "        else:\n",
    "            temp_df = pd.read_html(str_io, header=None)[0]\n",
    "            temp_df.columns = ['Date', 'Information']\n",
    "            \n",
    "        temp_df['Term'] = h3.get_text()\n",
    "        df_list.append(temp_df)\n",
    "\n",
    "df = pd.concat(df_list, ignore_index=True)\n",
    "df.to_csv(TABLE + '.csv')"
   ]
  },
  {
   "cell_type": "code",
   "execution_count": 6,
   "id": "63f24573c3c54a1e",
   "metadata": {
    "collapsed": false,
    "ExecuteTime": {
     "end_time": "2024-04-02T16:22:31.976375Z",
     "start_time": "2024-04-02T16:22:31.214203Z"
    }
   },
   "outputs": [
    {
     "name": "stderr",
     "output_type": "stream",
     "text": [
      "[NbConvertApp] Converting notebook Deadline.ipynb to script\n",
      "[NbConvertApp] Writing 1381 bytes to Deadline.py\n"
     ]
    },
    {
     "data": {
      "text/plain": "0"
     },
     "execution_count": 6,
     "metadata": {},
     "output_type": "execute_result"
    }
   ],
   "source": [
    "command = f\"jupyter nbconvert --to script {TABLE}\"\n",
    "os.system(command)"
   ]
  }
 ],
 "metadata": {
  "kernelspec": {
   "display_name": "Python 3 (ipykernel)",
   "language": "python",
   "name": "python3"
  },
  "language_info": {
   "codemirror_mode": {
    "name": "ipython",
    "version": 3
   },
   "file_extension": ".py",
   "mimetype": "text/x-python",
   "name": "python",
   "nbconvert_exporter": "python",
   "pygments_lexer": "ipython3",
   "version": "3.11.8"
  }
 },
 "nbformat": 4,
 "nbformat_minor": 5
}
