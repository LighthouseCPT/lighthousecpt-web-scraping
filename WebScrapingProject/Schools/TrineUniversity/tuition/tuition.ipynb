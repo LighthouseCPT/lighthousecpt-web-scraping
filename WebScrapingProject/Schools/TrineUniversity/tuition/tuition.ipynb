{
 "cells": [
  {
   "cell_type": "code",
   "execution_count": 8,
   "id": "initial_id",
   "metadata": {
    "ExecuteTime": {
     "end_time": "2024-04-20T18:11:52.000786Z",
     "start_time": "2024-04-20T18:11:51.997721Z"
    }
   },
   "outputs": [],
   "source": [
    "import re\n",
    "import requests\n",
    "from bs4 import BeautifulSoup\n",
    "from WebScrapingProject.Schools.ai_utils import *"
   ]
  },
  {
   "cell_type": "code",
   "execution_count": 9,
   "id": "5656e34a-6702-4c9c-ac2e-6abfb40cdba3",
   "metadata": {},
   "outputs": [],
   "source": [
    "url = 'https://www.trine.edu/international/graduate/international-tuition.aspx'\n",
    "page = requests.get(url)"
   ]
  },
  {
   "cell_type": "code",
   "execution_count": 10,
   "id": "d6ea5bda-8545-4264-aff8-2cd3daa2eb59",
   "metadata": {},
   "outputs": [],
   "source": [
    "soup = BeautifulSoup(page.text, 'html.parser')"
   ]
  },
  {
   "cell_type": "code",
   "execution_count": 19,
   "id": "5a4a0934-9fa1-4e10-93d6-df8ebad6ea82",
   "metadata": {},
   "outputs": [],
   "source": [
    "x = extract_content(soup, 'International Tuition and Fees - Graduate Degrees', 'Take the Next Steps')"
   ]
  },
  {
   "cell_type": "code",
   "execution_count": 24,
   "id": "240a7c6b-c030-4477-89e6-488a5c817df8",
   "metadata": {},
   "outputs": [],
   "source": [
    "y = extract_inner_string(x, \"Students are responsible\", \"visa denial.\", include_end=True)"
   ]
  },
  {
   "cell_type": "code",
   "execution_count": 25,
   "id": "ffcbc6db-2135-48de-9e8b-4340b99fbf47",
   "metadata": {},
   "outputs": [
    {
     "data": {
      "text/plain": [
       "\"Students are responsible for their tuition and fees upon Registration. Full-time graduate\\n                                    student status requires a minimum enrollment of 6 credits per semester.\\nSpring Semester Term II 2024 tuition and fees due by March 8 2024.\\nSummer Semester 2024 Tuition and fees due by June 7 2024.\\nFall Semester Term I 2024 tuition and fees due by August 16 2024.\\nFall Semester Term II 2024 tuition and fees due by October 18 2024.\\nHOW TO PAY\\nONE-TIME PAYMENT:\\nPayMyTuition\\nFlywire\\nU.S. currency\\nBank Account\\nCredit/Debit card (additional 2.85% will be assessed)\\nMONTHLY PAYMENT PLAN:\\nMonth payment plan: must enroll no later than the Friday before classes begin (session\\n                                          start date on I-20).\\n*Note: Payment plan is only available for Fall Term I and Spring Term I. \\xa0There is\\n                                          no payment plan option for Fall Term II Spring Term II or Summer.\\nCost to Participate in Monthly Payment Plan:\\n$35 non-refundable enrollment fee per semester\\n$30 non-refundable fee if a payment is returned\\nImportant Notes for Monthly Payment Plan:\\nMonthly payments will pull from your account automatically.\\nMonthly payments are not available for Term II and Summer sessions.\\nSteps to Enroll:\\nLog into\\nmyPortal\\nClick on the Student tab (top of page)\\nClick on Student Account Center (left-hand side)\\nClick on 'View or Pay My Bill'\\nDegree Program\\nTuition (Per Credit Hour)\\nOne-time International Enrollment Fee\\n*Health Insurance\\n**Estimated Total Per Academic Year\\nBachelor of Science in Information Systems\\n(BSIS)\\n$299\\n$500\\nSP/SU 2024: $820\\nFA 2024: $515\\nTotal: $1335\\n$8511\\nHealthcare Informatics Certificate\\n$575\\n$500\\nFA 2023: $515\\nSP/SU 2024: $820\\nTotal: $1335\\n$8235\\nMaster of Business Administration\\n$575\\n$500\\nFA 2023: $515\\nSP/SU 2024: $820\\nTotal: $1335\\n$8235\\nMaster of Science in Engineering Management\\n$575\\n$500\\nFA 2023: $515\\nSP/SU 2024: $820\\nTotal: $1335\\n$8235\\nMaster of Science in Business Analytics\\n$575\\n$500\\nFA 2023: $515\\nSP/SU 2024: $820\\nTotal: $1335\\n$8235\\nMaster of Science in Information Systems\\n$575\\n$500\\nFA 2023: $515\\nSP/SU 2024: $820\\nTotal: $1335\\n$8235\\nDoctor of Information Technology\\n(Beginning SP 2024)\\n$700\\n$500\\nSP/SU 2024: $820\\nFA 2024: $515\\n$9735\\n*Health Insurance Costs are updated on a yearly basis beginning in August for the\\n                     upcoming academic year.\\nGraduate/Certificate Degrees\\n**Estimated total per academic year is based on 6 credit hours per semester. Health\\n                     insurance costs also fluctuate year-to-year and will be updated in August for the\\n                     upcoming academic year.\\n**Enrollment refundable with proof of visa denial.\""
      ]
     },
     "execution_count": 25,
     "metadata": {},
     "output_type": "execute_result"
    }
   ],
   "source": [
    "y"
   ]
  }
 ],
 "metadata": {
  "kernelspec": {
   "display_name": "Python 3 (ipykernel)",
   "language": "python",
   "name": "python3"
  },
  "language_info": {
   "codemirror_mode": {
    "name": "ipython",
    "version": 3
   },
   "file_extension": ".py",
   "mimetype": "text/x-python",
   "name": "python",
   "nbconvert_exporter": "python",
   "pygments_lexer": "ipython3",
   "version": "3.11.8"
  }
 },
 "nbformat": 4,
 "nbformat_minor": 5
}
