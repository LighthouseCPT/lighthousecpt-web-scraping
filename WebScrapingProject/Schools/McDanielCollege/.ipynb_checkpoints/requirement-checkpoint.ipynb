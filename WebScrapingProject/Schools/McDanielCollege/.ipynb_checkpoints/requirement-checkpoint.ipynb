{
 "cells": [
  {
   "cell_type": "code",
   "execution_count": 8,
   "id": "initial_id",
   "metadata": {
    "ExecuteTime": {
     "end_time": "2024-03-21T16:56:13.909757Z",
     "start_time": "2024-03-21T16:56:13.665691Z"
    }
   },
   "outputs": [],
   "source": [
    "import requests\n",
    "import re\n",
    "from bs4 import BeautifulSoup\n",
    "import pandas as pd\n",
    "pd.set_option('display.max_columns', None)\n",
    "pd.set_option('display.max_colwidth', None)\n",
    "TABLE = \"Requirement\""
   ]
  },
  {
   "cell_type": "code",
   "execution_count": 9,
   "id": "44e874151485e6f6",
   "metadata": {
    "collapsed": false,
    "jupyter": {
     "outputs_hidden": false
    }
   },
   "outputs": [],
   "source": [
    "url = 'https://www.mcdaniel.edu/academics/graduate-professional-studies/data-analytics-ms-100-online-or-hybrid-low-residency'\n",
    "page = requests.get(url)\n",
    "\n",
    "with open(TABLE + '.html', 'w', encoding='utf-8') as file:\n",
    "    file.write(page.text)"
   ]
  },
  {
   "cell_type": "code",
   "execution_count": 10,
   "id": "0659f8d7-4ac5-453b-bf45-9e9a48f2bb3e",
   "metadata": {},
   "outputs": [],
   "source": [
    "with open(TABLE + '.html', 'r', encoding='utf-8') as file:\n",
    "    content = file.read()\n",
    "\n",
    "soup = BeautifulSoup(content, 'html.parser')"
   ]
  },
  {
   "cell_type": "code",
   "execution_count": 11,
   "id": "3e330fbc-d134-4cb3-84c1-f4e56a9c90cb",
   "metadata": {},
   "outputs": [],
   "source": [
    "pattern = re.compile(r'Admissions Requirements')\n",
    "\n",
    "match = soup.find(string=pattern).find_next('div').get_text(separator='\\n', strip=True)"
   ]
  },
  {
   "cell_type": "code",
   "execution_count": 16,
   "id": "c7119458-11ea-4f93-856b-fa3cad27aabd",
   "metadata": {},
   "outputs": [],
   "source": [
    "df = pd.DataFrame([match])\n",
    "df.to_csv(TABLE + '.csv')"
   ]
  }
 ],
 "metadata": {
  "kernelspec": {
   "display_name": "Python 3 (ipykernel)",
   "language": "python",
   "name": "python3"
  },
  "language_info": {
   "codemirror_mode": {
    "name": "ipython",
    "version": 3
   },
   "file_extension": ".py",
   "mimetype": "text/x-python",
   "name": "python",
   "nbconvert_exporter": "python",
   "pygments_lexer": "ipython3",
   "version": "3.11.8"
  }
 },
 "nbformat": 4,
 "nbformat_minor": 5
}
