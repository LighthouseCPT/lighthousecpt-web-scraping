{
 "cells": [
  {
   "cell_type": "code",
   "execution_count": 7,
   "id": "initial_id",
   "metadata": {
    "ExecuteTime": {
     "end_time": "2024-04-03T17:08:30.839751Z",
     "start_time": "2024-04-03T17:08:30.836628Z"
    }
   },
   "outputs": [],
   "source": [
    "import requests\n",
    "import re\n",
    "from bs4 import BeautifulSoup\n",
    "import pandas as pd\n",
    "import os\n",
    "pd.set_option('display.max_columns', None)\n",
    "pd.set_option('display.max_colwidth', None)\n",
    "TABLE = \"Requirement\""
   ]
  },
  {
   "cell_type": "code",
   "execution_count": 8,
   "id": "44e874151485e6f6",
   "metadata": {
    "collapsed": false,
    "ExecuteTime": {
     "end_time": "2024-04-03T17:08:30.914801Z",
     "start_time": "2024-04-03T17:08:30.844689Z"
    }
   },
   "outputs": [],
   "source": [
    "url = 'https://www.mcdaniel.edu/academics/graduate-professional-studies/data-analytics-ms-100-online-or-hybrid-low-residency'\n",
    "page = requests.get(url)\n",
    "\n",
    "with open(TABLE + '.html', 'w', encoding='utf-8') as file:\n",
    "    file.write(page.text)"
   ]
  },
  {
   "cell_type": "code",
   "execution_count": 9,
   "id": "0659f8d7-4ac5-453b-bf45-9e9a48f2bb3e",
   "metadata": {
    "ExecuteTime": {
     "end_time": "2024-04-03T17:08:30.931830Z",
     "start_time": "2024-04-03T17:08:30.915864Z"
    }
   },
   "outputs": [],
   "source": [
    "with open(TABLE + '.html', 'r', encoding='utf-8') as file:\n",
    "    content = file.read()\n",
    "\n",
    "soup = BeautifulSoup(content, 'html.parser')"
   ]
  },
  {
   "cell_type": "code",
   "execution_count": 10,
   "id": "3e330fbc-d134-4cb3-84c1-f4e56a9c90cb",
   "metadata": {
    "ExecuteTime": {
     "end_time": "2024-04-03T17:08:30.934815Z",
     "start_time": "2024-04-03T17:08:30.932607Z"
    }
   },
   "outputs": [],
   "source": [
    "pattern = re.compile(r'Admissions Requirements')\n",
    "match = soup.find(string=pattern).find_next('div').get_text(separator='\\n', strip=True)"
   ]
  },
  {
   "cell_type": "code",
   "execution_count": 11,
   "id": "c7119458-11ea-4f93-856b-fa3cad27aabd",
   "metadata": {
    "ExecuteTime": {
     "end_time": "2024-04-03T17:08:30.938414Z",
     "start_time": "2024-04-03T17:08:30.935996Z"
    }
   },
   "outputs": [],
   "source": [
    "df = pd.DataFrame([match])\n",
    "df.to_csv(TABLE + '.csv')"
   ]
  },
  {
   "cell_type": "code",
   "outputs": [
    {
     "name": "stderr",
     "output_type": "stream",
     "text": [
      "[NbConvertApp] Converting notebook Requirement.ipynb to script\n",
      "[NbConvertApp] Writing 939 bytes to Requirement.py\n"
     ]
    },
    {
     "data": {
      "text/plain": "0"
     },
     "execution_count": 12,
     "metadata": {},
     "output_type": "execute_result"
    }
   ],
   "source": [
    "command = f\"jupyter nbconvert --to script {TABLE}\"\n",
    "os.system(command)"
   ],
   "metadata": {
    "collapsed": false,
    "ExecuteTime": {
     "end_time": "2024-04-03T17:08:31.652946Z",
     "start_time": "2024-04-03T17:08:30.939051Z"
    }
   },
   "id": "2c21ee613ad62620",
   "execution_count": 12
  }
 ],
 "metadata": {
  "kernelspec": {
   "display_name": "Python 3 (ipykernel)",
   "language": "python",
   "name": "python3"
  },
  "language_info": {
   "codemirror_mode": {
    "name": "ipython",
    "version": 3
   },
   "file_extension": ".py",
   "mimetype": "text/x-python",
   "name": "python",
   "nbconvert_exporter": "python",
   "pygments_lexer": "ipython3",
   "version": "3.11.8"
  }
 },
 "nbformat": 4,
 "nbformat_minor": 5
}
