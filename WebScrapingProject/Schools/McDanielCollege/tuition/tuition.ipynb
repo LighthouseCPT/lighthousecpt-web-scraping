{
 "cells": [
  {
   "cell_type": "code",
   "execution_count": 1,
   "id": "3fcf9021-abf9-41a9-b258-d620d92bcfe4",
   "metadata": {
    "ExecuteTime": {
     "end_time": "2024-04-19T13:59:10.740763Z",
     "start_time": "2024-04-19T13:59:10.577264Z"
    }
   },
   "outputs": [],
   "source": [
    "import requests\n",
    "from bs4 import BeautifulSoup, NavigableString\n",
    "import pandas as pd\n",
    "import os\n",
    "import re\n",
    "from io import StringIO\n",
    "from WebScrapingProject.Schools.ai_utils import *\n",
    "pd.set_option('display.max_columns', None)\n",
    "pd.set_option('display.max_colwidth', None)\n",
    "TABLE = 'tuition'"
   ]
  },
  {
   "cell_type": "code",
   "execution_count": 2,
   "id": "63bd5c16-35cf-42b7-8992-f3bd91deca4c",
   "metadata": {
    "ExecuteTime": {
     "end_time": "2024-04-03T17:02:31.210135Z",
     "start_time": "2024-04-03T17:02:30.542425Z"
    }
   },
   "outputs": [],
   "source": [
    "url = 'https://www.mcdaniel.edu/admissions-cost/cost-financial-aid/graduate-tuition-fees'\n",
    "page = requests.get(url)"
   ]
  },
  {
   "cell_type": "code",
   "execution_count": 3,
   "id": "79e5ee39-7fbb-42e6-84e0-564ebe14d293",
   "metadata": {
    "ExecuteTime": {
     "end_time": "2024-04-03T17:02:31.227701Z",
     "start_time": "2024-04-03T17:02:31.211294Z"
    }
   },
   "outputs": [],
   "source": [
    "soup = BeautifulSoup(page.text, 'html.parser')"
   ]
  },
  {
   "cell_type": "code",
   "execution_count": 4,
   "id": "e7b9e635-3352-4600-9148-46199e1949b6",
   "metadata": {},
   "outputs": [],
   "source": [
    "content = ''\n",
    "start = soup.find(string='Graduate Tuition & Fees')\n",
    "end = soup.find(string='Connect With Us')\n",
    "if start and end:  # ensuring both start and end points are found\n",
    "    for element in start.parent.find_all_next(string=True):  # iterate over next elements in tree\n",
    "        if element == end:\n",
    "            break  # stop iteration when reaching 'end' string\n",
    "        if isinstance(element, NavigableString):\n",
    "            content += element.strip() + '\\n'  # add a newline character after each element\n",
    "content = re.sub('\\n+', '\\n', content)\n",
    "content = content.replace(\",\", \"\")"
   ]
  },
  {
   "cell_type": "code",
   "execution_count": 5,
   "id": "5b15d3fb-83a0-4d92-9bd1-1d12410302a4",
   "metadata": {},
   "outputs": [
    {
     "data": {
      "text/plain": [
       "\"Graduate Tuition & Fees\\n2023-2024\\xa0Graduate Tuition & Fees\\nMcDaniel's graduate program tuition costs vary by program. Please note that the costs outlined below are the direct costs billed to the student (except in cases where Direct Billing with a school district or other employer is in place).\\nIf your program is not listed below your tuition costs are:\\n$548 per credit beginning in Fall 2023\\nM.S. in Counseling Tuition\\n$609 per credit beginning in Fall 2023\\nM.S. in Disability Support Services and Public Administration & Policy\\n$643 per credit beginning in Fall 2023\\nM.S. in Data Analytics\\n$689 per credit beginning in Fall 2023\\nMS Data Analytics Residency Fee - $204\\nMS Data Analytics Practicum Fee - $200\\nProfessional Development Courses\\n1 Credit Course = $199\\n2 Credit Course = $259\\nEducation Programs Cohort Tuition: Through a School District Partnership\\n$1443 per 3 credit course effective\\xa0Fall 2023\\nNew cohorts will receive a variable tuition rate that will be discounted $200 from the full tuition rate for a three credit course.\\nCounselor Education Cohort Tuition: Through a School District Partnership\\n$1827 per 3 credit course effective\\xa0Fall 2022\\nGraduate Program Fees\\nIn addition to tuition costs students are required to pay the following fees if applicable:\\nAdministrative Fee: $105.00 per semester\\nLate Payment Fee: $50.00\\nStudent Teaching Fees: $850.00\\nTranscript Fee: $12.00\\nLate Registration Fee: $35.00\\nEstimated Cost of Attendance\\nThe Cost of Attendance is the cornerstone of establishing your financial need and it sets a limit on the total aid that you may receive. It consists of both Direct Costs (those paid directly to McDaniel) and Indirect Costs those which are incidental to your attendance at McDaniel.\\nWe use average expenses rather than actual expenses to determine approximately what it will cost you to attend school and live for a given enrollment period.\\nTuition\\n$11412.00 per year\\nBased on average tuition for full-time enrollment (fall/spring/summer)\\nFees\\n$1472 per year\\nBased on average fees for full-time enrollment (fall/spring/summer)\\nBooks\\n$1798 per year\\nIndirect charge: to be used for planning\\nMeals Not on Campus\\n$3572.00 per year\\nIndirect charge: to be used for planning\\nOff Campus Room\\n$8332.00 per year\\nIndirect charge: to be used for planning\\nOff Campus Transportation\\n$2470.00 per year\\nIndirect charge: to be used for planning\\nPersonal Expenses\\n$8086.00 per year\\nIndirect charge: to be used for planning\\n\""
      ]
     },
     "execution_count": 5,
     "metadata": {},
     "output_type": "execute_result"
    }
   ],
   "source": [
    "content"
   ]
  },
  {
   "cell_type": "code",
   "execution_count": null,
   "id": "4076282d-34a1-4cc8-91b5-c50b32017ef1",
   "metadata": {},
   "outputs": [],
   "source": [
    "def format_unstructured_data_to_csv(unstructured_data):\n",
    "    prompt = (\n",
    "        f\"Take the provided unstructured data and convert it into a well-structured CSV format. Return only the CSV-formatted data. Input data: \\n'{unstructured_data}'\")\n",
    "\n",
    "    logging.debug(f\"Returning prompt: {prompt}\")\n",
    "    return prompt\n"
   ]
  },
  {
   "cell_type": "code",
   "execution_count": null,
   "id": "8d2b6030-dcff-4895-a200-ee4085f876f4",
   "metadata": {},
   "outputs": [],
   "source": [
    "def extract_tuition_to_csv(text):\n",
    "    prompt = (f\"I have extracted tuition fee details from a webpage. The information can include different types of fees and costs associated with a college program. Convert this data into CSV format. Depending on the extracted data, the CSV can have different categories such as program name, tuition per credit, per term, additional fees, overall cost of attendance etc. Each entry should be listed on a new line with elements separated by commas. Here is the obtained text: \\n'{text}'\")\n",
    " \n",
    "    logging.debug(f\"Returning prompt: {prompt}\")\n",
    "    return prompt"
   ]
  },
  {
   "cell_type": "code",
   "execution_count": 6,
   "id": "55f815fa-3dfa-4a86-aa92-6ab725555eec",
   "metadata": {},
   "outputs": [],
   "source": [
    "def extract_tuition_to_csv(text):\n",
    "    prompt = (f\"Here are some tuition details I've scraped from the internet. This information will be displayed on a study abroad agency website. The goal is to give students a clear understanding of the costs associated with various programs in a specific college. Your task is to convert this information into a well-structured CSV format that clearly presents the cost for each program. Do not preface the CSV with any additional text—only the CSV content should be returned. Here is the obtained text: \\n'{text}'\")\n",
    "\n",
    "    logging.debug(f\"Returning prompt: {prompt}\")\n",
    "    return prompt\n"
   ]
  },
  {
   "cell_type": "code",
   "execution_count": 23,
   "id": "91999d3e-e056-4ba6-b34d-6acc758c2f63",
   "metadata": {},
   "outputs": [
    {
     "name": "stderr",
     "output_type": "stream",
     "text": [
      "[2024-04-19 14:25:05,959] 4 WebScrapingProject.Schools.ai_utils - DEBUG - Returning prompt: Here are some tuition details I've scraped from the internet. This information will be displayed on a study abroad agency website. The goal is to give students a clear understanding of the costs associated with various programs in a specific college. Your task is to convert this information into a well-structured CSV format that clearly presents the cost for each program. Do not preface the CSV with any additional text—only the CSV content should be returned. Here is the obtained text: \n",
      "'Graduate Tuition & Fees\n",
      "2023-2024 Graduate Tuition & Fees\n",
      "McDaniel's graduate program tuition costs vary by program. Please note that the costs outlined below are the direct costs billed to the student (except in cases where Direct Billing with a school district or other employer is in place).\n",
      "If your program is not listed below your tuition costs are:\n",
      "$548 per credit beginning in Fall 2023\n",
      "M.S. in Counseling Tuition\n",
      "$609 per credit beginning in Fall 2023\n",
      "M.S. in Disability Support Services and Public Administration & Policy\n",
      "$643 per credit beginning in Fall 2023\n",
      "M.S. in Data Analytics\n",
      "$689 per credit beginning in Fall 2023\n",
      "MS Data Analytics Residency Fee - $204\n",
      "MS Data Analytics Practicum Fee - $200\n",
      "Professional Development Courses\n",
      "1 Credit Course = $199\n",
      "2 Credit Course = $259\n",
      "Education Programs Cohort Tuition: Through a School District Partnership\n",
      "$1443 per 3 credit course effective Fall 2023\n",
      "New cohorts will receive a variable tuition rate that will be discounted $200 from the full tuition rate for a three credit course.\n",
      "Counselor Education Cohort Tuition: Through a School District Partnership\n",
      "$1827 per 3 credit course effective Fall 2022\n",
      "Graduate Program Fees\n",
      "In addition to tuition costs students are required to pay the following fees if applicable:\n",
      "Administrative Fee: $105.00 per semester\n",
      "Late Payment Fee: $50.00\n",
      "Student Teaching Fees: $850.00\n",
      "Transcript Fee: $12.00\n",
      "Late Registration Fee: $35.00\n",
      "Estimated Cost of Attendance\n",
      "The Cost of Attendance is the cornerstone of establishing your financial need and it sets a limit on the total aid that you may receive. It consists of both Direct Costs (those paid directly to McDaniel) and Indirect Costs those which are incidental to your attendance at McDaniel.\n",
      "We use average expenses rather than actual expenses to determine approximately what it will cost you to attend school and live for a given enrollment period.\n",
      "Tuition\n",
      "$11412.00 per year\n",
      "Based on average tuition for full-time enrollment (fall/spring/summer)\n",
      "Fees\n",
      "$1472 per year\n",
      "Based on average fees for full-time enrollment (fall/spring/summer)\n",
      "Books\n",
      "$1798 per year\n",
      "Indirect charge: to be used for planning\n",
      "Meals Not on Campus\n",
      "$3572.00 per year\n",
      "Indirect charge: to be used for planning\n",
      "Off Campus Room\n",
      "$8332.00 per year\n",
      "Indirect charge: to be used for planning\n",
      "Off Campus Transportation\n",
      "$2470.00 per year\n",
      "Indirect charge: to be used for planning\n",
      "Personal Expenses\n",
      "$8086.00 per year\n",
      "Indirect charge: to be used for planning\n",
      "'\n",
      "[2024-04-19 14:25:37,313] 21 WebScrapingProject.Schools.ai_utils - DEBUG - Successfully generated response: \"Program,Cost per Credit/Course,Start Date,Additional Fees\n",
      "General Tuition,$548,Fall 2023,\n",
      "M.S. in Counseling Tuition,$609,Fall 2023,\n",
      "M.S. in Disability Support Services and Public Administration & Policy,$643,Fall 2023,\n",
      "M.S. in Data Analytics,$689,Fall 2023,MS Data Analytics Residency Fee - $204; MS Data Analytics Practicum Fee - $200\n",
      "Professional Development Courses 1 Credit,$199,,\n",
      "Professional Development Courses 2 Credit,$259,,\n",
      "Education Programs Cohort Tuition: Through a School District Partnership,$1443,Fall 2023,\n",
      "Counselor Education Cohort Tuition: Through a School District Partnership,$1827,Fall 2022,\n",
      "Graduate Program Fees,,,$105.00 per semester; Late Payment Fee: $50.00; Student Teaching Fees: $850.00; Transcript Fee: $12.00; Late Registration Fee: $35.00\n",
      "Estimated Cost of Attendance - Tuition,$11412.00 per year,,\n",
      "Estimated Cost of Attendance - Fees,$1472 per year,,\n",
      "Estimated Cost of Attendance - Books,$1798 per year,,\n",
      "Estimated Cost of Attendance - Meals Not on Campus,$3572.00 per year,,\n",
      "Estimated Cost of Attendance - Off Campus Room,$8332.00 per year,,\n",
      "Estimated Cost of Attendance - Off Campus Transportation,$2470.00 per year,,\n",
      "Estimated Cost of Attendance - Personal Expenses,$8086.00 per year,,\"\n",
      "[2024-04-19 14:25:37,317] 4 WebScrapingProject.Schools.ai_utils - DEBUG - Returning prompt: Here are some tuition details I've scraped from the internet. This information will be displayed on a study abroad agency website. The goal is to give students a clear understanding of the costs associated with various programs in a specific college. Your task is to convert this information into a well-structured CSV format that clearly presents the cost for each program. Do not preface the CSV with any additional text—only the CSV content should be returned. Here is the obtained text: \n",
      "'Graduate Tuition & Fees\n",
      "2023-2024 Graduate Tuition & Fees\n",
      "McDaniel's graduate program tuition costs vary by program. Please note that the costs outlined below are the direct costs billed to the student (except in cases where Direct Billing with a school district or other employer is in place).\n",
      "If your program is not listed below your tuition costs are:\n",
      "$548 per credit beginning in Fall 2023\n",
      "M.S. in Counseling Tuition\n",
      "$609 per credit beginning in Fall 2023\n",
      "M.S. in Disability Support Services and Public Administration & Policy\n",
      "$643 per credit beginning in Fall 2023\n",
      "M.S. in Data Analytics\n",
      "$689 per credit beginning in Fall 2023\n",
      "MS Data Analytics Residency Fee - $204\n",
      "MS Data Analytics Practicum Fee - $200\n",
      "Professional Development Courses\n",
      "1 Credit Course = $199\n",
      "2 Credit Course = $259\n",
      "Education Programs Cohort Tuition: Through a School District Partnership\n",
      "$1443 per 3 credit course effective Fall 2023\n",
      "New cohorts will receive a variable tuition rate that will be discounted $200 from the full tuition rate for a three credit course.\n",
      "Counselor Education Cohort Tuition: Through a School District Partnership\n",
      "$1827 per 3 credit course effective Fall 2022\n",
      "Graduate Program Fees\n",
      "In addition to tuition costs students are required to pay the following fees if applicable:\n",
      "Administrative Fee: $105.00 per semester\n",
      "Late Payment Fee: $50.00\n",
      "Student Teaching Fees: $850.00\n",
      "Transcript Fee: $12.00\n",
      "Late Registration Fee: $35.00\n",
      "Estimated Cost of Attendance\n",
      "The Cost of Attendance is the cornerstone of establishing your financial need and it sets a limit on the total aid that you may receive. It consists of both Direct Costs (those paid directly to McDaniel) and Indirect Costs those which are incidental to your attendance at McDaniel.\n",
      "We use average expenses rather than actual expenses to determine approximately what it will cost you to attend school and live for a given enrollment period.\n",
      "Tuition\n",
      "$11412.00 per year\n",
      "Based on average tuition for full-time enrollment (fall/spring/summer)\n",
      "Fees\n",
      "$1472 per year\n",
      "Based on average fees for full-time enrollment (fall/spring/summer)\n",
      "Books\n",
      "$1798 per year\n",
      "Indirect charge: to be used for planning\n",
      "Meals Not on Campus\n",
      "$3572.00 per year\n",
      "Indirect charge: to be used for planning\n",
      "Off Campus Room\n",
      "$8332.00 per year\n",
      "Indirect charge: to be used for planning\n",
      "Off Campus Transportation\n",
      "$2470.00 per year\n",
      "Indirect charge: to be used for planning\n",
      "Personal Expenses\n",
      "$8086.00 per year\n",
      "Indirect charge: to be used for planning\n",
      "'\n"
     ]
    },
    {
     "name": "stdout",
     "output_type": "stream",
     "text": [
      "good, breaking...\n"
     ]
    },
    {
     "name": "stderr",
     "output_type": "stream",
     "text": [
      "[2024-04-19 14:26:07,299] 21 WebScrapingProject.Schools.ai_utils - DEBUG - Successfully generated response: \"Program,Cost per Credit/Course,Start Date,Additional Fees\n",
      "General Graduate Program,$548 per credit,Fall 2023,\n",
      "M.S. in Counseling,$609 per credit,Fall 2023,\n",
      "M.S. in Disability Support Services and Public Administration & Policy,$643 per credit,Fall 2023,\n",
      "M.S. in Data Analytics,$689 per credit,Fall 2023,MS Data Analytics Residency Fee - $204; MS Data Analytics Practicum Fee - $200\n",
      "Professional Development Courses (1 Credit),$199,,\n",
      "Professional Development Courses (2 Credits),$259,,\n",
      "Education Programs Cohort Tuition: Through a School District Partnership,$1443 per 3 credit course,Fall 2023,\n",
      "Counselor Education Cohort Tuition: Through a School District Partnership,$1827 per 3 credit course,Fall 2022,\n",
      "Graduate Program Fees,,,$105.00 per semester; Late Payment Fee: $50.00; Student Teaching Fees: $850.00; Transcript Fee: $12.00; Late Registration Fee: $35.00\n",
      "Estimated Cost of Attendance (Tuition),$11412.00 per year,,\n",
      "Estimated Cost of Attendance (Fees),$1472 per year,,\n",
      "Estimated Cost of Attendance (Books),$1798 per year,,\n",
      "Estimated Cost of Attendance (Meals Not on Campus),$3572.00 per year,,\n",
      "Estimated Cost of Attendance (Off Campus Room),$8332.00 per year,,\n",
      "Estimated Cost of Attendance (Off Campus Transportation),$2470.00 per year,,\n",
      "Estimated Cost of Attendance (Personal Expenses),$8086.00 per year,,\"\n",
      "[2024-04-19 14:26:07,302] 4 WebScrapingProject.Schools.ai_utils - DEBUG - Returning prompt: Here are some tuition details I've scraped from the internet. This information will be displayed on a study abroad agency website. The goal is to give students a clear understanding of the costs associated with various programs in a specific college. Your task is to convert this information into a well-structured CSV format that clearly presents the cost for each program. Do not preface the CSV with any additional text—only the CSV content should be returned. Here is the obtained text: \n",
      "'Graduate Tuition & Fees\n",
      "2023-2024 Graduate Tuition & Fees\n",
      "McDaniel's graduate program tuition costs vary by program. Please note that the costs outlined below are the direct costs billed to the student (except in cases where Direct Billing with a school district or other employer is in place).\n",
      "If your program is not listed below your tuition costs are:\n",
      "$548 per credit beginning in Fall 2023\n",
      "M.S. in Counseling Tuition\n",
      "$609 per credit beginning in Fall 2023\n",
      "M.S. in Disability Support Services and Public Administration & Policy\n",
      "$643 per credit beginning in Fall 2023\n",
      "M.S. in Data Analytics\n",
      "$689 per credit beginning in Fall 2023\n",
      "MS Data Analytics Residency Fee - $204\n",
      "MS Data Analytics Practicum Fee - $200\n",
      "Professional Development Courses\n",
      "1 Credit Course = $199\n",
      "2 Credit Course = $259\n",
      "Education Programs Cohort Tuition: Through a School District Partnership\n",
      "$1443 per 3 credit course effective Fall 2023\n",
      "New cohorts will receive a variable tuition rate that will be discounted $200 from the full tuition rate for a three credit course.\n",
      "Counselor Education Cohort Tuition: Through a School District Partnership\n",
      "$1827 per 3 credit course effective Fall 2022\n",
      "Graduate Program Fees\n",
      "In addition to tuition costs students are required to pay the following fees if applicable:\n",
      "Administrative Fee: $105.00 per semester\n",
      "Late Payment Fee: $50.00\n",
      "Student Teaching Fees: $850.00\n",
      "Transcript Fee: $12.00\n",
      "Late Registration Fee: $35.00\n",
      "Estimated Cost of Attendance\n",
      "The Cost of Attendance is the cornerstone of establishing your financial need and it sets a limit on the total aid that you may receive. It consists of both Direct Costs (those paid directly to McDaniel) and Indirect Costs those which are incidental to your attendance at McDaniel.\n",
      "We use average expenses rather than actual expenses to determine approximately what it will cost you to attend school and live for a given enrollment period.\n",
      "Tuition\n",
      "$11412.00 per year\n",
      "Based on average tuition for full-time enrollment (fall/spring/summer)\n",
      "Fees\n",
      "$1472 per year\n",
      "Based on average fees for full-time enrollment (fall/spring/summer)\n",
      "Books\n",
      "$1798 per year\n",
      "Indirect charge: to be used for planning\n",
      "Meals Not on Campus\n",
      "$3572.00 per year\n",
      "Indirect charge: to be used for planning\n",
      "Off Campus Room\n",
      "$8332.00 per year\n",
      "Indirect charge: to be used for planning\n",
      "Off Campus Transportation\n",
      "$2470.00 per year\n",
      "Indirect charge: to be used for planning\n",
      "Personal Expenses\n",
      "$8086.00 per year\n",
      "Indirect charge: to be used for planning\n",
      "'\n"
     ]
    },
    {
     "name": "stdout",
     "output_type": "stream",
     "text": [
      "good, breaking...\n"
     ]
    },
    {
     "name": "stderr",
     "output_type": "stream",
     "text": [
      "[2024-04-19 14:26:31,359] 21 WebScrapingProject.Schools.ai_utils - DEBUG - Successfully generated response: \"Program,Cost,Effective From\n",
      "General Graduate Tuition,$548 per credit,Fall 2023\n",
      "M.S. in Counseling Tuition,$609 per credit,Fall 2023\n",
      "M.S. in Disability Support Services and Public Administration & Policy,$643 per credit,Fall 2023\n",
      "M.S. in Data Analytics,$689 per credit,Fall 2023\n",
      "MS Data Analytics Residency Fee,$204,\n",
      "MS Data Analytics Practicum Fee,$200,\n",
      "Professional Development Courses - 1 Credit Course,$199,\n",
      "Professional Development Courses - 2 Credit Course,$259,\n",
      "Education Programs Cohort Tuition: Through a School District Partnership,$1443 per 3 credit course,Fall 2023\n",
      "Counselor Education Cohort Tuition: Through a School District Partnership,$1827 per 3 credit course,Fall 2022\n",
      "Administrative Fee,$105.00 per semester,\n",
      "Late Payment Fee,$50.00,\n",
      "Student Teaching Fees,$850.00,\n",
      "Transcript Fee,$12.00,\n",
      "Late Registration Fee,$35.00,\n",
      "Estimated Cost of Attendance - Tuition,$11412.00 per year,\n",
      "Estimated Cost of Attendance - Fees,$1472 per year,\n",
      "Estimated Cost of Attendance - Books,$1798 per year,\n",
      "Estimated Cost of Attendance - Meals Not on Campus,$3572.00 per year,\n",
      "Estimated Cost of Attendance - Off Campus Room,$8332.00 per year,\n",
      "Estimated Cost of Attendance - Off Campus Transportation,$2470.00 per year,\n",
      "Estimated Cost of Attendance - Personal Expenses,$8086.00 per year,\"\n"
     ]
    },
    {
     "name": "stdout",
     "output_type": "stream",
     "text": [
      "good, breaking...\n"
     ]
    }
   ],
   "source": [
    "output_texts = []\n",
    "for _ in range(3):\n",
    "    while True:\n",
    "        try:\n",
    "            x_ = openai_prompter(\n",
    "                extract_tuition_to_csv(content),\n",
    "                model='gpt-4',\n",
    "                temperature=0.4\n",
    "            )\n",
    "            x = x_.lstrip(\"```\").rstrip(\"```\")\n",
    "            x = x.replace('csv', '')\n",
    "            x = x.lstrip('\"').rstrip('\"') \n",
    "            x_data = StringIO(x)\n",
    "            df = pd.read_csv(x_data, sep=',')\n",
    "            print('good, breaking...')\n",
    "            output_texts.append(x)\n",
    "            break\n",
    "        except pd.errors.ParserError:\n",
    "            print('parser error, continuing...')\n",
    "            continue"
   ]
  },
  {
   "cell_type": "code",
   "execution_count": 24,
   "id": "ed59ef61-5441-445b-844e-d65737a4632b",
   "metadata": {},
   "outputs": [],
   "source": [
    "csv1, csv2, csv3 = [x for x in output_texts]"
   ]
  },
  {
   "cell_type": "code",
   "execution_count": 25,
   "id": "3d0e29c3-49d1-4de1-a621-178980287717",
   "metadata": {},
   "outputs": [],
   "source": [
    "def choose_best_csv(csv1, csv2, csv3):\n",
    "    prompt = (\n",
    "        f\"Below are three CSVs containing tuition details of various programs in a specific college.\"\n",
    "        \" The task is to return ONLY the number (nothing else) - 1, 2, or 3 - of the CSV that is most readable, offers clear understanding, and is best suited for display on a study abroad agency website.\"\n",
    "        \" Evaluate each CSV and return only the number of the best one.\"\n",
    "        \" Here are the CSVs:\\n\\n\"\n",
    "        \"CSV 1:\\n\"\n",
    "        f\"'{csv1}'\\n\\n\"\n",
    "        \"CSV 2:\\n\"\n",
    "        f\"'{csv2}'\\n\\n\"\n",
    "        \"CSV 3:\\n\"\n",
    "        f\"'{csv3}'\"\n",
    "    )\n",
    "\n",
    "    logging.debug(f\"Returning prompt: {prompt}\")\n",
    "    return prompt"
   ]
  },
  {
   "cell_type": "code",
   "execution_count": 26,
   "id": "f9199bcb-c994-41e5-8d47-0afe8dd04aba",
   "metadata": {},
   "outputs": [
    {
     "name": "stderr",
     "output_type": "stream",
     "text": [
      "[2024-04-19 14:28:56,201] 15 WebScrapingProject.Schools.ai_utils - DEBUG - Returning prompt: Below are three CSVs containing tuition details of various programs in a specific college. The task is to return ONLY the number (nothing else) - 1, 2, or 3 - of the CSV that is most readable, offers clear understanding, and is best suited for display on a study abroad agency website. Evaluate each CSV and return only the number of the best one. Here are the CSVs:\n",
      "\n",
      "CSV 1:\n",
      "'Program,Cost per Credit/Course,Start Date,Additional Fees\n",
      "General Tuition,$548,Fall 2023,\n",
      "M.S. in Counseling Tuition,$609,Fall 2023,\n",
      "M.S. in Disability Support Services and Public Administration & Policy,$643,Fall 2023,\n",
      "M.S. in Data Analytics,$689,Fall 2023,MS Data Analytics Residency Fee - $204; MS Data Analytics Practicum Fee - $200\n",
      "Professional Development Courses 1 Credit,$199,,\n",
      "Professional Development Courses 2 Credit,$259,,\n",
      "Education Programs Cohort Tuition: Through a School District Partnership,$1443,Fall 2023,\n",
      "Counselor Education Cohort Tuition: Through a School District Partnership,$1827,Fall 2022,\n",
      "Graduate Program Fees,,,$105.00 per semester; Late Payment Fee: $50.00; Student Teaching Fees: $850.00; Transcript Fee: $12.00; Late Registration Fee: $35.00\n",
      "Estimated Cost of Attendance - Tuition,$11412.00 per year,,\n",
      "Estimated Cost of Attendance - Fees,$1472 per year,,\n",
      "Estimated Cost of Attendance - Books,$1798 per year,,\n",
      "Estimated Cost of Attendance - Meals Not on Campus,$3572.00 per year,,\n",
      "Estimated Cost of Attendance - Off Campus Room,$8332.00 per year,,\n",
      "Estimated Cost of Attendance - Off Campus Transportation,$2470.00 per year,,\n",
      "Estimated Cost of Attendance - Personal Expenses,$8086.00 per year,,'\n",
      "\n",
      "CSV 2:\n",
      "'Program,Cost per Credit/Course,Start Date,Additional Fees\n",
      "General Graduate Program,$548 per credit,Fall 2023,\n",
      "M.S. in Counseling,$609 per credit,Fall 2023,\n",
      "M.S. in Disability Support Services and Public Administration & Policy,$643 per credit,Fall 2023,\n",
      "M.S. in Data Analytics,$689 per credit,Fall 2023,MS Data Analytics Residency Fee - $204; MS Data Analytics Practicum Fee - $200\n",
      "Professional Development Courses (1 Credit),$199,,\n",
      "Professional Development Courses (2 Credits),$259,,\n",
      "Education Programs Cohort Tuition: Through a School District Partnership,$1443 per 3 credit course,Fall 2023,\n",
      "Counselor Education Cohort Tuition: Through a School District Partnership,$1827 per 3 credit course,Fall 2022,\n",
      "Graduate Program Fees,,,$105.00 per semester; Late Payment Fee: $50.00; Student Teaching Fees: $850.00; Transcript Fee: $12.00; Late Registration Fee: $35.00\n",
      "Estimated Cost of Attendance (Tuition),$11412.00 per year,,\n",
      "Estimated Cost of Attendance (Fees),$1472 per year,,\n",
      "Estimated Cost of Attendance (Books),$1798 per year,,\n",
      "Estimated Cost of Attendance (Meals Not on Campus),$3572.00 per year,,\n",
      "Estimated Cost of Attendance (Off Campus Room),$8332.00 per year,,\n",
      "Estimated Cost of Attendance (Off Campus Transportation),$2470.00 per year,,\n",
      "Estimated Cost of Attendance (Personal Expenses),$8086.00 per year,,'\n",
      "\n",
      "CSV 3:\n",
      "'Program,Cost,Effective From\n",
      "General Graduate Tuition,$548 per credit,Fall 2023\n",
      "M.S. in Counseling Tuition,$609 per credit,Fall 2023\n",
      "M.S. in Disability Support Services and Public Administration & Policy,$643 per credit,Fall 2023\n",
      "M.S. in Data Analytics,$689 per credit,Fall 2023\n",
      "MS Data Analytics Residency Fee,$204,\n",
      "MS Data Analytics Practicum Fee,$200,\n",
      "Professional Development Courses - 1 Credit Course,$199,\n",
      "Professional Development Courses - 2 Credit Course,$259,\n",
      "Education Programs Cohort Tuition: Through a School District Partnership,$1443 per 3 credit course,Fall 2023\n",
      "Counselor Education Cohort Tuition: Through a School District Partnership,$1827 per 3 credit course,Fall 2022\n",
      "Administrative Fee,$105.00 per semester,\n",
      "Late Payment Fee,$50.00,\n",
      "Student Teaching Fees,$850.00,\n",
      "Transcript Fee,$12.00,\n",
      "Late Registration Fee,$35.00,\n",
      "Estimated Cost of Attendance - Tuition,$11412.00 per year,\n",
      "Estimated Cost of Attendance - Fees,$1472 per year,\n",
      "Estimated Cost of Attendance - Books,$1798 per year,\n",
      "Estimated Cost of Attendance - Meals Not on Campus,$3572.00 per year,\n",
      "Estimated Cost of Attendance - Off Campus Room,$8332.00 per year,\n",
      "Estimated Cost of Attendance - Off Campus Transportation,$2470.00 per year,\n",
      "Estimated Cost of Attendance - Personal Expenses,$8086.00 per year,'\n",
      "[2024-04-19 14:28:57,080] 21 WebScrapingProject.Schools.ai_utils - DEBUG - Successfully generated response: 2\n",
      "[2024-04-19 14:28:57,081] 15 WebScrapingProject.Schools.ai_utils - DEBUG - Returning prompt: Below are three CSVs containing tuition details of various programs in a specific college. The task is to return ONLY the number (nothing else) - 1, 2, or 3 - of the CSV that is most readable, offers clear understanding, and is best suited for display on a study abroad agency website. Evaluate each CSV and return only the number of the best one. Here are the CSVs:\n",
      "\n",
      "CSV 1:\n",
      "'Program,Cost per Credit/Course,Start Date,Additional Fees\n",
      "General Tuition,$548,Fall 2023,\n",
      "M.S. in Counseling Tuition,$609,Fall 2023,\n",
      "M.S. in Disability Support Services and Public Administration & Policy,$643,Fall 2023,\n",
      "M.S. in Data Analytics,$689,Fall 2023,MS Data Analytics Residency Fee - $204; MS Data Analytics Practicum Fee - $200\n",
      "Professional Development Courses 1 Credit,$199,,\n",
      "Professional Development Courses 2 Credit,$259,,\n",
      "Education Programs Cohort Tuition: Through a School District Partnership,$1443,Fall 2023,\n",
      "Counselor Education Cohort Tuition: Through a School District Partnership,$1827,Fall 2022,\n",
      "Graduate Program Fees,,,$105.00 per semester; Late Payment Fee: $50.00; Student Teaching Fees: $850.00; Transcript Fee: $12.00; Late Registration Fee: $35.00\n",
      "Estimated Cost of Attendance - Tuition,$11412.00 per year,,\n",
      "Estimated Cost of Attendance - Fees,$1472 per year,,\n",
      "Estimated Cost of Attendance - Books,$1798 per year,,\n",
      "Estimated Cost of Attendance - Meals Not on Campus,$3572.00 per year,,\n",
      "Estimated Cost of Attendance - Off Campus Room,$8332.00 per year,,\n",
      "Estimated Cost of Attendance - Off Campus Transportation,$2470.00 per year,,\n",
      "Estimated Cost of Attendance - Personal Expenses,$8086.00 per year,,'\n",
      "\n",
      "CSV 2:\n",
      "'Program,Cost per Credit/Course,Start Date,Additional Fees\n",
      "General Graduate Program,$548 per credit,Fall 2023,\n",
      "M.S. in Counseling,$609 per credit,Fall 2023,\n",
      "M.S. in Disability Support Services and Public Administration & Policy,$643 per credit,Fall 2023,\n",
      "M.S. in Data Analytics,$689 per credit,Fall 2023,MS Data Analytics Residency Fee - $204; MS Data Analytics Practicum Fee - $200\n",
      "Professional Development Courses (1 Credit),$199,,\n",
      "Professional Development Courses (2 Credits),$259,,\n",
      "Education Programs Cohort Tuition: Through a School District Partnership,$1443 per 3 credit course,Fall 2023,\n",
      "Counselor Education Cohort Tuition: Through a School District Partnership,$1827 per 3 credit course,Fall 2022,\n",
      "Graduate Program Fees,,,$105.00 per semester; Late Payment Fee: $50.00; Student Teaching Fees: $850.00; Transcript Fee: $12.00; Late Registration Fee: $35.00\n",
      "Estimated Cost of Attendance (Tuition),$11412.00 per year,,\n",
      "Estimated Cost of Attendance (Fees),$1472 per year,,\n",
      "Estimated Cost of Attendance (Books),$1798 per year,,\n",
      "Estimated Cost of Attendance (Meals Not on Campus),$3572.00 per year,,\n",
      "Estimated Cost of Attendance (Off Campus Room),$8332.00 per year,,\n",
      "Estimated Cost of Attendance (Off Campus Transportation),$2470.00 per year,,\n",
      "Estimated Cost of Attendance (Personal Expenses),$8086.00 per year,,'\n",
      "\n",
      "CSV 3:\n",
      "'Program,Cost,Effective From\n",
      "General Graduate Tuition,$548 per credit,Fall 2023\n",
      "M.S. in Counseling Tuition,$609 per credit,Fall 2023\n",
      "M.S. in Disability Support Services and Public Administration & Policy,$643 per credit,Fall 2023\n",
      "M.S. in Data Analytics,$689 per credit,Fall 2023\n",
      "MS Data Analytics Residency Fee,$204,\n",
      "MS Data Analytics Practicum Fee,$200,\n",
      "Professional Development Courses - 1 Credit Course,$199,\n",
      "Professional Development Courses - 2 Credit Course,$259,\n",
      "Education Programs Cohort Tuition: Through a School District Partnership,$1443 per 3 credit course,Fall 2023\n",
      "Counselor Education Cohort Tuition: Through a School District Partnership,$1827 per 3 credit course,Fall 2022\n",
      "Administrative Fee,$105.00 per semester,\n",
      "Late Payment Fee,$50.00,\n",
      "Student Teaching Fees,$850.00,\n",
      "Transcript Fee,$12.00,\n",
      "Late Registration Fee,$35.00,\n",
      "Estimated Cost of Attendance - Tuition,$11412.00 per year,\n",
      "Estimated Cost of Attendance - Fees,$1472 per year,\n",
      "Estimated Cost of Attendance - Books,$1798 per year,\n",
      "Estimated Cost of Attendance - Meals Not on Campus,$3572.00 per year,\n",
      "Estimated Cost of Attendance - Off Campus Room,$8332.00 per year,\n",
      "Estimated Cost of Attendance - Off Campus Transportation,$2470.00 per year,\n",
      "Estimated Cost of Attendance - Personal Expenses,$8086.00 per year,'\n",
      "[2024-04-19 14:28:57,931] 21 WebScrapingProject.Schools.ai_utils - DEBUG - Successfully generated response: 2\n"
     ]
    }
   ],
   "source": [
    "# Initialize an empty list to store the results\n",
    "best_csv_list = []\n",
    "\n",
    "# Initialize result to None\n",
    "result = None\n",
    "\n",
    "# Initialize a variable for maximum number of trials\n",
    "max_trials = 10\n",
    "trial = 0\n",
    "\n",
    "# Run the function until we find a repeated entry or reach maximum trials\n",
    "while result is None and trial < max_trials:\n",
    "    best_csv = openai_prompter(choose_best_csv(csv1, csv2, csv3), model='gpt-4', temperature=0.2)\n",
    "    best_csv_list.append(best_csv)\n",
    "\n",
    "    for item in best_csv_list:\n",
    "        if best_csv_list.count(item) > 1:\n",
    "            result = item\n",
    "            break\n",
    "\n",
    "    trial += 1"
   ]
  },
  {
   "cell_type": "code",
   "execution_count": 27,
   "id": "815813c1-c909-4c7a-9e99-f97717eeb534",
   "metadata": {},
   "outputs": [],
   "source": [
    "result = int(result)"
   ]
  },
  {
   "cell_type": "code",
   "execution_count": 28,
   "id": "c459b6d3-beec-4749-a932-7f3d929c1fd0",
   "metadata": {},
   "outputs": [],
   "source": [
    "def get_best_csv(result):\n",
    "    if result == 1:\n",
    "        return csv1\n",
    "    if result == 2:\n",
    "        return csv2\n",
    "    if result == 3:\n",
    "        return csv3"
   ]
  },
  {
   "cell_type": "code",
   "execution_count": 29,
   "id": "41b1a502-d9ee-4b27-8cae-5f63021382c2",
   "metadata": {},
   "outputs": [],
   "source": [
    "data = StringIO(get_best_csv(result))\n",
    "df = pd.read_csv(data, sep=',')"
   ]
  },
  {
   "cell_type": "code",
   "execution_count": 32,
   "id": "cf0ad0a7-58f0-46b4-a33a-fad8b8bd22cc",
   "metadata": {},
   "outputs": [],
   "source": [
    "df.to_csv('test.csv')"
   ]
  },
  {
   "cell_type": "code",
   "execution_count": null,
   "id": "c55ea1f2-b1a4-4156-ac97-6b005a208dcc",
   "metadata": {
    "ExecuteTime": {
     "end_time": "2024-04-03T17:02:31.232578Z",
     "start_time": "2024-04-03T17:02:31.228383Z"
    }
   },
   "outputs": [],
   "source": [
    "degree = 'M.S. in Data Analytics'\n",
    "button = soup.find('h3', string=degree)\n",
    "div = button.find_next('div')\n",
    "p_tags = div.find_all('p')\n",
    "\n",
    "cols = ['Program', 'Tuition (Per Credit Hour)', 'Residency Fee', 'Practicum Fee']\n",
    "\n",
    "tuition_fee = p_tags[0].text\n",
    "residency_fee = p_tags[1].text.split(' - ')[-1]\n",
    "practicum_fee = p_tags[2].text.split(' - ')[-1]\n",
    "\n",
    "data_1 = {'Program': degree, 'Tuition (Per Credit Hour)': tuition_fee, \n",
    "        'Residency Fee': residency_fee, 'Practicum Fee': practicum_fee}\n",
    "\n",
    "\n",
    "df1 = pd.DataFrame([data_1], columns=cols)"
   ]
  },
  {
   "cell_type": "code",
   "execution_count": null,
   "id": "36e08d17-aaf2-4391-86b7-4cc14156770a",
   "metadata": {
    "ExecuteTime": {
     "end_time": "2024-04-03T17:02:31.237559Z",
     "start_time": "2024-04-03T17:02:31.234435Z"
    }
   },
   "outputs": [],
   "source": [
    "ul = soup.find('h2', string='Graduate Program Fees').find_next('ul')\n",
    "li_tags = ul.find_all('li')\n",
    "\n",
    "data_2 = []\n",
    "for li in li_tags:\n",
    "    item = li.get_text()\n",
    "    description, cost = [x.strip() for x in item.split(':')]\n",
    "    data_2.append([description, cost])\n",
    "\n",
    "df2 = pd.DataFrame(data_2, columns=[\"Description\", \"Cost\"])"
   ]
  },
  {
   "cell_type": "code",
   "execution_count": null,
   "id": "d76dbbb5-6a69-4a86-a6f7-39f32e51f0a8",
   "metadata": {
    "ExecuteTime": {
     "end_time": "2024-04-03T17:02:31.240442Z",
     "start_time": "2024-04-03T17:02:31.238295Z"
    },
    "scrolled": true
   },
   "outputs": [],
   "source": [
    "tbl = soup.table"
   ]
  },
  {
   "cell_type": "code",
   "execution_count": null,
   "id": "2cbec4a7-1bf6-4437-93be-d6ab51e4841c",
   "metadata": {
    "ExecuteTime": {
     "end_time": "2024-04-03T17:02:31.248065Z",
     "start_time": "2024-04-03T17:02:31.241156Z"
    }
   },
   "outputs": [],
   "source": [
    "df3 = pd.read_html(str(tbl))[0]"
   ]
  },
  {
   "cell_type": "code",
   "execution_count": null,
   "id": "7834622e-0c99-4864-8f5d-a51587da5823",
   "metadata": {
    "ExecuteTime": {
     "end_time": "2024-04-03T17:02:31.252830Z",
     "start_time": "2024-04-03T17:02:31.248604Z"
    }
   },
   "outputs": [],
   "source": [
    "merged_df = pd.concat([df1, df2, df3], axis=0, ignore_index=True)\n",
    "merged_df.to_csv(TABLE + '.csv')"
   ]
  },
  {
   "cell_type": "code",
   "execution_count": 33,
   "id": "d5f9ecd4-4154-4cf1-bf9a-936157a2f86b",
   "metadata": {
    "ExecuteTime": {
     "end_time": "2024-04-03T17:02:31.910040Z",
     "start_time": "2024-04-03T17:02:31.253435Z"
    },
    "scrolled": true
   },
   "outputs": [
    {
     "name": "stderr",
     "output_type": "stream",
     "text": [
      "[NbConvertApp] Converting notebook Tuition.ipynb to script\n",
      "[NbConvertApp] Writing 6128 bytes to Tuition.py\n"
     ]
    },
    {
     "data": {
      "text/plain": [
       "0"
      ]
     },
     "execution_count": 33,
     "metadata": {},
     "output_type": "execute_result"
    }
   ],
   "source": [
    "command = f\"jupyter nbconvert --to script {TABLE}\"\n",
    "os.system(command)"
   ]
  }
 ],
 "metadata": {
  "kernelspec": {
   "display_name": "Python 3 (ipykernel)",
   "language": "python",
   "name": "python3"
  },
  "language_info": {
   "codemirror_mode": {
    "name": "ipython",
    "version": 3
   },
   "file_extension": ".py",
   "mimetype": "text/x-python",
   "name": "python",
   "nbconvert_exporter": "python",
   "pygments_lexer": "ipython3",
   "version": "3.11.8"
  }
 },
 "nbformat": 4,
 "nbformat_minor": 5
}
