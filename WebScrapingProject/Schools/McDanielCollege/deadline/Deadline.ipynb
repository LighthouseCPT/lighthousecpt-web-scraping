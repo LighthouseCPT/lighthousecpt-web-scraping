{
 "cells": [
  {
   "cell_type": "code",
   "execution_count": 1,
   "id": "initial_id",
   "metadata": {
    "ExecuteTime": {
     "end_time": "2024-04-23T19:20:41.117740Z",
     "start_time": "2024-04-23T19:20:40.757645Z"
    }
   },
   "outputs": [],
   "source": [
    "import requests\n",
    "import re\n",
    "from bs4 import BeautifulSoup\n",
    "import pandas as pd\n",
    "import os\n",
    "pd.set_option('display.max_columns', None)\n",
    "pd.set_option('display.max_colwidth', None)\n",
    "TABLE = 'Deadline'"
   ]
  },
  {
   "cell_type": "code",
   "execution_count": 3,
   "id": "74baffbb-ba6a-44eb-8f21-5f9152898cd1",
   "metadata": {},
   "outputs": [],
   "source": [
    "df = pd.read_csv('/Users/bilalakhtar/Downloads/McDanielCollege_deadline_2024-04-23_15-17-15.csv')"
   ]
  },
  {
   "cell_type": "code",
   "execution_count": 5,
   "id": "f59ab5eb-98d0-4e36-9710-8d554a385e64",
   "metadata": {},
   "outputs": [],
   "source": [
    "df1 = df.dropna(how='all', axis=1)"
   ]
  },
  {
   "cell_type": "code",
   "execution_count": 8,
   "id": "596b50b0-4fba-494f-ac9a-362083bcde1e",
   "metadata": {},
   "outputs": [
    {
     "data": {
      "text/plain": [
       "(27, 6)"
      ]
     },
     "execution_count": 8,
     "metadata": {},
     "output_type": "execute_result"
    }
   ],
   "source": [
    "df.shape"
   ]
  },
  {
   "cell_type": "code",
   "execution_count": 9,
   "id": "b5210207-11e4-4cb1-a1bc-23257117afb1",
   "metadata": {},
   "outputs": [
    {
     "data": {
      "text/plain": [
       "(27, 5)"
      ]
     },
     "execution_count": 9,
     "metadata": {},
     "output_type": "execute_result"
    }
   ],
   "source": [
    "df1.shape"
   ]
  },
  {
   "cell_type": "code",
   "execution_count": 14,
   "id": "44e874151485e6f6",
   "metadata": {
    "collapsed": false,
    "jupyter": {
     "outputs_hidden": false
    }
   },
   "outputs": [],
   "source": [
    "url = 'https://www.mcdaniel.edu/admissions-cost/graduate-admissions'\n",
    "page = requests.get(url)\n",
    "\n",
    "with open(TABLE + '.html', 'w', encoding='utf-8') as file:\n",
    "    file.write(page.text)"
   ]
  },
  {
   "cell_type": "code",
   "execution_count": 15,
   "id": "0659f8d7-4ac5-453b-bf45-9e9a48f2bb3e",
   "metadata": {},
   "outputs": [],
   "source": [
    "with open(TABLE + '.html', 'r', encoding='utf-8') as file:\n",
    "    content = file.read()\n",
    "\n",
    "soup = BeautifulSoup(content, 'html.parser')"
   ]
  },
  {
   "cell_type": "code",
   "execution_count": 16,
   "id": "3e330fbc-d134-4cb3-84c1-f4e56a9c90cb",
   "metadata": {},
   "outputs": [],
   "source": [
    "pattern = re.compile(r'Graduate Academic Schedule')\n",
    "\n",
    "match = soup.find(string=pattern).find_next('div').get_text(separator='\\n', strip=True)"
   ]
  },
  {
   "cell_type": "code",
   "execution_count": 17,
   "id": "c7119458-11ea-4f93-856b-fa3cad27aabd",
   "metadata": {},
   "outputs": [],
   "source": [
    "df = pd.DataFrame([match])\n",
    "df.to_csv(TABLE + '.csv')"
   ]
  },
  {
   "cell_type": "code",
   "execution_count": 18,
   "id": "e0f4ef52-143c-4731-932a-9a5f0083b9bd",
   "metadata": {},
   "outputs": [
    {
     "name": "stderr",
     "output_type": "stream",
     "text": [
      "[NbConvertApp] Converting notebook Deadline.ipynb to script\n",
      "[NbConvertApp] Writing 874 bytes to Deadline.py\n"
     ]
    },
    {
     "data": {
      "text/plain": [
       "0"
      ]
     },
     "execution_count": 18,
     "metadata": {},
     "output_type": "execute_result"
    }
   ],
   "source": [
    "command = f\"jupyter nbconvert --to script {TABLE}\"\n",
    "os.system(command)"
   ]
  }
 ],
 "metadata": {
  "kernelspec": {
   "display_name": "Python 3 (ipykernel)",
   "language": "python",
   "name": "python3"
  },
  "language_info": {
   "codemirror_mode": {
    "name": "ipython",
    "version": 3
   },
   "file_extension": ".py",
   "mimetype": "text/x-python",
   "name": "python",
   "nbconvert_exporter": "python",
   "pygments_lexer": "ipython3",
   "version": "3.11.8"
  }
 },
 "nbformat": 4,
 "nbformat_minor": 5
}
