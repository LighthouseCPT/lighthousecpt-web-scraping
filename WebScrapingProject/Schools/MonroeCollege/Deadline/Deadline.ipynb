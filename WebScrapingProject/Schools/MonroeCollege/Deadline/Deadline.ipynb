{
 "cells": [
  {
   "cell_type": "code",
   "execution_count": 6,
   "id": "initial_id",
   "metadata": {
    "ExecuteTime": {
     "end_time": "2024-04-03T16:05:16.110107Z",
     "start_time": "2024-04-03T16:05:16.106812Z"
    }
   },
   "outputs": [],
   "source": [
    "import requests\n",
    "import os\n",
    "from bs4 import BeautifulSoup\n",
    "import pandas as pd\n",
    "pd.set_option('display.max_columns', None)\n",
    "pd.set_option('display.max_colwidth', None)\n",
    "TABLE = 'Deadline'"
   ]
  },
  {
   "cell_type": "code",
   "execution_count": 7,
   "id": "a6266779fbea34ec",
   "metadata": {
    "collapsed": false,
    "ExecuteTime": {
     "end_time": "2024-04-03T16:05:16.190159Z",
     "start_time": "2024-04-03T16:05:16.111564Z"
    }
   },
   "outputs": [],
   "source": [
    "url = 'https://www.monroecollege.edu/academics/academic-calendar-and-resources'\n",
    "page = requests.get(url)\n",
    "\n",
    "with open(TABLE + '.html', 'w', encoding='utf-8') as file:\n",
    "    file.write(page.text)"
   ]
  },
  {
   "cell_type": "code",
   "execution_count": 8,
   "id": "f621a413-e0e2-4317-869f-42b38af4d5af",
   "metadata": {
    "ExecuteTime": {
     "end_time": "2024-04-03T16:05:16.217893Z",
     "start_time": "2024-04-03T16:05:16.191792Z"
    }
   },
   "outputs": [],
   "source": [
    "with open(TABLE + '.html', 'r', encoding='utf-8') as file:\n",
    "    content = file.read()\n",
    "\n",
    "soup = BeautifulSoup(content, 'html.parser')"
   ]
  },
  {
   "cell_type": "code",
   "execution_count": 9,
   "id": "ba80a220-9ab1-4642-b878-ed4ecfde0758",
   "metadata": {
    "ExecuteTime": {
     "end_time": "2024-04-03T16:05:16.221747Z",
     "start_time": "2024-04-03T16:05:16.218760Z"
    }
   },
   "outputs": [
    {
     "data": {
      "text/plain": "[<h2 class=\"visually-hidden\" id=\"block-mainnavigation-menu\">Main navigation</h2>,\n <h2 class=\"visually-hidden\" id=\"block-submainnavigation-menu\">Sub main navigation</h2>,\n <h2 class=\"visually-hidden\" id=\"dialog-title-1\">Enter a Search Term</h2>,\n <h2 class=\"visually-hidden\" id=\"block-mobile-menu-menu\">Mobile Main navigation</h2>,\n <h2 class=\"visually-hidden\" id=\"block-mobile-sub-menu-menu\">Mobile Sub main navigation</h2>,\n <h2 class=\"visually-hidden\" id=\"dialog-title-2\">Enter a Search Term</h2>,\n <h2>Winter 2024 Academic Calendar</h2>,\n <h2>Spring 2024 Academic Calendar</h2>,\n <h2>August Bridge / Fall 2024 Academic Calendar</h2>,\n <h2>Winter 2025 Academic Calendar</h2>,\n <h2>Spring 2025 Academic Calendar</h2>,\n <h2>Course Catalog</h2>,\n <h2>Transcript Requests</h2>,\n <h2>Academic Tutoring</h2>,\n <h2>Academic Centers</h2>,\n <h2>Library Services</h2>,\n <h2>Questions?</h2>,\n <h2 class=\"visually-hidden\">Site Footer</h2>]"
     },
     "execution_count": 9,
     "metadata": {},
     "output_type": "execute_result"
    }
   ],
   "source": [
    "h2_elements = soup.find_all('h2')\n",
    "h2_elements"
   ]
  },
  {
   "cell_type": "code",
   "execution_count": 10,
   "id": "7020ce29-27d2-4b3f-979d-02a78f3ecddf",
   "metadata": {
    "ExecuteTime": {
     "end_time": "2024-04-03T16:05:16.248294Z",
     "start_time": "2024-04-03T16:05:16.222903Z"
    }
   },
   "outputs": [
    {
     "name": "stderr",
     "output_type": "stream",
     "text": [
      "/var/folders/jl/k_qw56hn2dx0cbwjpqwf8k3m0000gn/T/ipykernel_47338/1443221669.py:18: FutureWarning: Passing literal html to 'read_html' is deprecated and will be removed in a future version. To read from a literal string, wrap it in a 'StringIO' object.\n",
      "  temp_df = pd.read_html(str(sibling))[0]\n",
      "/var/folders/jl/k_qw56hn2dx0cbwjpqwf8k3m0000gn/T/ipykernel_47338/1443221669.py:18: FutureWarning: Passing literal html to 'read_html' is deprecated and will be removed in a future version. To read from a literal string, wrap it in a 'StringIO' object.\n",
      "  temp_df = pd.read_html(str(sibling))[0]\n",
      "/var/folders/jl/k_qw56hn2dx0cbwjpqwf8k3m0000gn/T/ipykernel_47338/1443221669.py:18: FutureWarning: Passing literal html to 'read_html' is deprecated and will be removed in a future version. To read from a literal string, wrap it in a 'StringIO' object.\n",
      "  temp_df = pd.read_html(str(sibling))[0]\n",
      "/var/folders/jl/k_qw56hn2dx0cbwjpqwf8k3m0000gn/T/ipykernel_47338/1443221669.py:18: FutureWarning: Passing literal html to 'read_html' is deprecated and will be removed in a future version. To read from a literal string, wrap it in a 'StringIO' object.\n",
      "  temp_df = pd.read_html(str(sibling))[0]\n",
      "/var/folders/jl/k_qw56hn2dx0cbwjpqwf8k3m0000gn/T/ipykernel_47338/1443221669.py:18: FutureWarning: Passing literal html to 'read_html' is deprecated and will be removed in a future version. To read from a literal string, wrap it in a 'StringIO' object.\n",
      "  temp_df = pd.read_html(str(sibling))[0]\n",
      "/var/folders/jl/k_qw56hn2dx0cbwjpqwf8k3m0000gn/T/ipykernel_47338/1443221669.py:18: FutureWarning: Passing literal html to 'read_html' is deprecated and will be removed in a future version. To read from a literal string, wrap it in a 'StringIO' object.\n",
      "  temp_df = pd.read_html(str(sibling))[0]\n"
     ]
    }
   ],
   "source": [
    "df_list = []\n",
    "\n",
    "h2_elements = soup.find_all('h2')\n",
    "\n",
    "for h2 in h2_elements:\n",
    "    h2_text = h2.get_text()\n",
    "    \n",
    "    if 'Calendar' in h2_text:\n",
    "        subsequent_siblings = list(h2.find_all_next())\n",
    "        \n",
    "        current_p = None\n",
    "        for sibling in subsequent_siblings:\n",
    "            if sibling.name == 'h2':\n",
    "                break\n",
    "            if sibling.name == 'p' and ('Calendar' in sibling.get_text()):\n",
    "                current_p = sibling.get_text().strip()\n",
    "            if sibling.name == 'table':\n",
    "                temp_df = pd.read_html(str(sibling))[0]\n",
    "                temp_df['Term'] = h2_text\n",
    "                temp_df['Sub-Term'] = current_p\n",
    "                df_list.append(temp_df)\n",
    "\n",
    "df = pd.concat(df_list, ignore_index=True)\n",
    "df.rename(columns={0: \"Date\", 1: \"Day\", 2: \"Information\"}, inplace=True)\n",
    "df['Date'] = df[['Day', 'Date']].apply(lambda row: ', '.join(row.values), axis=1)\n",
    "df.drop('Day', axis=1, inplace=True)\n",
    "# df.reset_index(drop=True, inplace=True)\n",
    "df = df[df.columns[[2, 3, 0, 1]]]\n",
    "df.to_csv('deadline.csv')"
   ]
  },
  {
   "cell_type": "code",
   "execution_count": 11,
   "id": "45e5a792-7909-40c9-a79f-c39394a15f11",
   "metadata": {
    "ExecuteTime": {
     "end_time": "2024-04-03T16:05:16.971431Z",
     "start_time": "2024-04-03T16:05:16.248922Z"
    }
   },
   "outputs": [
    {
     "name": "stderr",
     "output_type": "stream",
     "text": [
      "[NbConvertApp] Converting notebook Deadline.ipynb to script\n",
      "[NbConvertApp] Writing 1757 bytes to Deadline.py\n"
     ]
    },
    {
     "data": {
      "text/plain": "0"
     },
     "execution_count": 11,
     "metadata": {},
     "output_type": "execute_result"
    }
   ],
   "source": [
    "command = f\"jupyter nbconvert --to script {TABLE}\"\n",
    "os.system(command)"
   ]
  }
 ],
 "metadata": {
  "kernelspec": {
   "display_name": "Python 3 (ipykernel)",
   "language": "python",
   "name": "python3"
  },
  "language_info": {
   "codemirror_mode": {
    "name": "ipython",
    "version": 3
   },
   "file_extension": ".py",
   "mimetype": "text/x-python",
   "name": "python",
   "nbconvert_exporter": "python",
   "pygments_lexer": "ipython3",
   "version": "3.9.6"
  }
 },
 "nbformat": 4,
 "nbformat_minor": 5
}
