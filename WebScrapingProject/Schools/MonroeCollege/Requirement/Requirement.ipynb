{
 "cells": [
  {
   "cell_type": "code",
   "execution_count": 1,
   "id": "initial_id",
   "metadata": {
    "ExecuteTime": {
     "end_time": "2024-03-20T17:35:40.528440Z",
     "start_time": "2024-03-20T17:35:40.020789Z"
    }
   },
   "outputs": [
    {
     "name": "stderr",
     "output_type": "stream",
     "text": [
      "/Users/bilalakhtar/PycharmProjects/School-Info2/.venv/lib/python3.9/site-packages/urllib3/__init__.py:35: NotOpenSSLWarning: urllib3 v2 only supports OpenSSL 1.1.1+, currently the 'ssl' module is compiled with 'LibreSSL 2.8.3'. See: https://github.com/urllib3/urllib3/issues/3020\n",
      "  warnings.warn(\n"
     ]
    }
   ],
   "source": [
    "import requests\n",
    "import re\n",
    "from bs4 import BeautifulSoup\n",
    "import pandas as pd\n",
    "pd.set_option('display.max_columns', None)\n",
    "pd.set_option('display.max_colwidth', None)\n",
    "TABLE = 'Requirement'"
   ]
  },
  {
   "cell_type": "code",
   "execution_count": 2,
   "id": "fabeefa4-efb2-407e-bbba-ca091de2eb52",
   "metadata": {},
   "outputs": [],
   "source": [
    "url = 'https://www.monroecollege.edu/admissions-and-aid/how-apply/international-student'\n",
    "page = requests.get(url)\n",
    "\n",
    "with open(TABLE + '.html', 'w', encoding='utf-8') as file:\n",
    "    file.write(page.text)"
   ]
  },
  {
   "cell_type": "code",
   "execution_count": 13,
   "id": "f3b25e03-8728-4c56-9950-37f0298b8945",
   "metadata": {},
   "outputs": [],
   "source": [
    "with open(TABLE + '.html', 'r', encoding='utf-8') as file:\n",
    "    content = file.read()\n",
    "\n",
    "soup = BeautifulSoup(content, 'html.parser')"
   ]
  },
  {
   "cell_type": "code",
   "execution_count": 15,
   "id": "1457e3c9-d01b-41d9-9731-9dfd5cde6964",
   "metadata": {},
   "outputs": [],
   "source": [
    "pattern = re.compile(r'Graduate Admissions for Master’s Degrees')\n",
    "\n",
    "data = soup.find(string=pattern).find_next('ul').get_text(separator='\\n', strip=True)"
   ]
  },
  {
   "cell_type": "code",
   "execution_count": 16,
   "id": "187867db-0200-400c-ac23-70741fde47bb",
   "metadata": {},
   "outputs": [
    {
     "data": {
      "text/plain": [
       "'Bachelor Degree transcript and diploma\\nPrior Master Degree transcripts\\xa0 – Official transcripts from any graduate degree program must be mailed directly or securely emailed to Monroe College’s International Admissions office to receive credits. Upon approval, The King Graduate School can accept a maximum of two courses. Unofficial transcripts may be uploaded to the portal for admissions review.\\nSubmit professional resume and two letters of recommendation. Online letters of recommendation can be accessed on the online application portal.\\nNon-native English speaker proof of English proficiency'"
      ]
     },
     "execution_count": 16,
     "metadata": {},
     "output_type": "execute_result"
    }
   ],
   "source": [
    "data"
   ]
  },
  {
   "cell_type": "code",
   "execution_count": 19,
   "id": "c4e8ff25-cb2f-4bc0-8261-ac1bb356c45c",
   "metadata": {},
   "outputs": [
    {
     "data": {
      "text/html": [
       "<div>\n",
       "<style scoped>\n",
       "    .dataframe tbody tr th:only-of-type {\n",
       "        vertical-align: middle;\n",
       "    }\n",
       "\n",
       "    .dataframe tbody tr th {\n",
       "        vertical-align: top;\n",
       "    }\n",
       "\n",
       "    .dataframe thead th {\n",
       "        text-align: right;\n",
       "    }\n",
       "</style>\n",
       "<table border=\"1\" class=\"dataframe\">\n",
       "  <thead>\n",
       "    <tr style=\"text-align: right;\">\n",
       "      <th></th>\n",
       "      <th>0</th>\n",
       "    </tr>\n",
       "  </thead>\n",
       "  <tbody>\n",
       "    <tr>\n",
       "      <th>0</th>\n",
       "      <td>Bachelor Degree transcript and diploma\\nPrior Master Degree transcripts  – Official transcripts from any graduate degree program must be mailed directly or securely emailed to Monroe College’s International Admissions office to receive credits. Upon approval, The King Graduate School can accept a maximum of two courses. Unofficial transcripts may be uploaded to the portal for admissions review.\\nSubmit professional resume and two letters of recommendation. Online letters of recommendation can be accessed on the online application portal.\\nNon-native English speaker proof of English proficiency</td>\n",
       "    </tr>\n",
       "  </tbody>\n",
       "</table>\n",
       "</div>"
      ],
      "text/plain": [
       "                                                                                                                                                                                                                                                                                                                                                                                                                                                                                                                                                                                                                          0\n",
       "0  Bachelor Degree transcript and diploma\\nPrior Master Degree transcripts  – Official transcripts from any graduate degree program must be mailed directly or securely emailed to Monroe College’s International Admissions office to receive credits. Upon approval, The King Graduate School can accept a maximum of two courses. Unofficial transcripts may be uploaded to the portal for admissions review.\\nSubmit professional resume and two letters of recommendation. Online letters of recommendation can be accessed on the online application portal.\\nNon-native English speaker proof of English proficiency"
      ]
     },
     "execution_count": 19,
     "metadata": {},
     "output_type": "execute_result"
    }
   ],
   "source": [
    "df = pd.DataFrame([data])\n",
    "df.to_csv(TABLE + '.csv')\n",
    "df"
   ]
  }
 ],
 "metadata": {
  "kernelspec": {
   "display_name": "Python 3 (ipykernel)",
   "language": "python",
   "name": "python3"
  },
  "language_info": {
   "codemirror_mode": {
    "name": "ipython",
    "version": 3
   },
   "file_extension": ".py",
   "mimetype": "text/x-python",
   "name": "python",
   "nbconvert_exporter": "python",
   "pygments_lexer": "ipython3",
   "version": "3.9.6"
  }
 },
 "nbformat": 4,
 "nbformat_minor": 5
}
