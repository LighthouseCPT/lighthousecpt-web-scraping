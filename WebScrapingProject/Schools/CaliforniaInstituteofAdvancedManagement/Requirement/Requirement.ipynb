{
 "cells": [
  {
   "cell_type": "code",
   "execution_count": 34,
   "id": "initial_id",
   "metadata": {
    "ExecuteTime": {
     "end_time": "2024-03-21T19:13:40.709019Z",
     "start_time": "2024-03-21T19:13:40.400404Z"
    }
   },
   "outputs": [],
   "source": [
    "import os\n",
    "import requests\n",
    "import re\n",
    "from bs4 import BeautifulSoup\n",
    "import pandas as pd\n",
    "import tabula\n",
    "from pypdf import PdfReader\n",
    "pd.set_option('display.max_columns', None)\n",
    "pd.set_option('display.max_colwidth', None)\n",
    "TABLE = 'Requirement'"
   ]
  },
  {
   "cell_type": "code",
   "execution_count": 35,
   "id": "155e0f28-fba7-4f89-a899-56d45aa0abf8",
   "metadata": {},
   "outputs": [],
   "source": [
    "for file in os.listdir('.'):\n",
    "    if 'checklist' in file.lower():\n",
    "        PDF_NAME = file"
   ]
  },
  {
   "cell_type": "code",
   "execution_count": 37,
   "id": "ba5558dd-8802-4d30-aba8-cdaae5dc9bb5",
   "metadata": {},
   "outputs": [],
   "source": [
    "reader = PdfReader(PDF_NAME)\n",
    "number_of_pages = len(reader.pages)\n",
    "\n",
    "# Create an empty string to store all text\n",
    "all_text = \"\"\n",
    "\n",
    "# Loop through all pages and append their text to all_text\n",
    "for i in range(number_of_pages):\n",
    "    page = reader.pages[i]\n",
    "    all_text += page.extract_text() + \"\\n\"  # Add a newline after each page's text"
   ]
  },
  {
   "cell_type": "code",
   "execution_count": 40,
   "id": "ea15e5e0-b426-4d7b-88f6-003fde4f6df1",
   "metadata": {},
   "outputs": [],
   "source": [
    "df = pd.DataFrame([all_text])\n",
    "df.to_csv(TABLE + '.csv')"
   ]
  }
 ],
 "metadata": {
  "kernelspec": {
   "display_name": "Python 3 (ipykernel)",
   "language": "python",
   "name": "python3"
  },
  "language_info": {
   "codemirror_mode": {
    "name": "ipython",
    "version": 3
   },
   "file_extension": ".py",
   "mimetype": "text/x-python",
   "name": "python",
   "nbconvert_exporter": "python",
   "pygments_lexer": "ipython3",
   "version": "3.11.8"
  }
 },
 "nbformat": 4,
 "nbformat_minor": 5
}
