{
 "cells": [
  {
   "cell_type": "code",
   "execution_count": 6,
   "id": "initial_id",
   "metadata": {
    "ExecuteTime": {
     "end_time": "2024-03-21T20:37:24.995433Z",
     "start_time": "2024-03-21T20:37:24.681584Z"
    }
   },
   "outputs": [],
   "source": [
    "import os\n",
    "import requests\n",
    "import re\n",
    "from bs4 import BeautifulSoup\n",
    "import pandas as pd\n",
    "pd.set_option('display.max_columns', None)\n",
    "pd.set_option('display.max_colwidth', None)\n",
    "TABLE = 'Deadline'"
   ]
  },
  {
   "cell_type": "code",
   "execution_count": 7,
   "id": "af9145923d4d3f8e",
   "metadata": {
    "collapsed": false,
    "jupyter": {
     "outputs_hidden": false
    }
   },
   "outputs": [],
   "source": [
    "headers = {'User-Agent': 'Mozilla/5.0 (Macintosh; Intel Mac OS X 10_11_5) AppleWebKit/537.36 (KHTML, like Gecko) Chrome/50.0.2661.102 Safari/537.36'}\n",
    "url = 'https://www.ciam.edu/apply-today'\n",
    "page = requests.get(url, headers=headers)\n",
    "\n",
    "\n",
    "with open(TABLE + '.html', 'w', encoding='utf-8') as file:\n",
    "    file.write(page.text)"
   ]
  },
  {
   "cell_type": "code",
   "execution_count": 8,
   "id": "589c343b-2ba5-4cca-b7cf-63ad54b6833d",
   "metadata": {},
   "outputs": [],
   "source": [
    "with open(TABLE + '.html', 'r', encoding='utf-8') as file:\n",
    "    content = file.read()\n",
    "\n",
    "soup = BeautifulSoup(content, 'html.parser')"
   ]
  },
  {
   "cell_type": "code",
   "execution_count": 14,
   "id": "14c3b7f4-dcfa-435c-a746-052372c55e85",
   "metadata": {},
   "outputs": [],
   "source": [
    "text = soup.find(string='Application Deadlines').find_next('ul').get_text(strip=True, separator='\\n')"
   ]
  },
  {
   "cell_type": "code",
   "execution_count": 15,
   "id": "0be51059-e7c4-46ce-9ca4-2e7479bd795f",
   "metadata": {},
   "outputs": [
    {
     "data": {
      "text/plain": [
       "'Summer 2024 Term:\\nAdmissions Application Deadline:\\nFriday, April 12th, 2024, 4pm PST.\\nTerm Start Date: May 4th, 2024\\nTerm End Date: August 9th, 2024\\nSummer 2024 Term:\\nSummer II 2024 Term:\\nAdmissions Application Deadline:\\nFriday, May 31st, 2024, 4pm PST.\\nTerm Start Date: June 22nd, 2024\\nTerm End Date: August 9th, 2024\\nSummer II 2024 Term:\\nFall 2024 Term:\\nAdmissions Application Deadline:\\nFriday, August 9th, 2024, 4pm PST.\\nTerm Start Date: August 31st, 2024\\nTerm End Date: December 6th, 2024\\nFall 2024 Term:\\nFall II 2024 Term:\\nAdmissions Application Deadline:\\nFriday, September 20th, 2024, 4pm PST.\\nTerm Start Date: October 12th, 2024\\nTerm End Date: December 6th, 2024\\nFall II 2024 Term:'"
      ]
     },
     "execution_count": 15,
     "metadata": {},
     "output_type": "execute_result"
    }
   ],
   "source": [
    "text"
   ]
  },
  {
   "cell_type": "code",
   "execution_count": 16,
   "id": "b032860c-4032-4445-8c93-10ed7a35eb92",
   "metadata": {},
   "outputs": [],
   "source": [
    "df = pd.DataFrame([text])\n",
    "df.to_csv(TABLE + '.csv')"
   ]
  }
 ],
 "metadata": {
  "kernelspec": {
   "display_name": "Python 3 (ipykernel)",
   "language": "python",
   "name": "python3"
  },
  "language_info": {
   "codemirror_mode": {
    "name": "ipython",
    "version": 3
   },
   "file_extension": ".py",
   "mimetype": "text/x-python",
   "name": "python",
   "nbconvert_exporter": "python",
   "pygments_lexer": "ipython3",
   "version": "3.11.8"
  }
 },
 "nbformat": 4,
 "nbformat_minor": 5
}
