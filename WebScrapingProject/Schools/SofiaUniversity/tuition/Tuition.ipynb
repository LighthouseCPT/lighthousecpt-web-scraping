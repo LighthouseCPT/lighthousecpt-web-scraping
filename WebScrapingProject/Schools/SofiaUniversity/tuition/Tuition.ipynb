{
 "cells": [
  {
   "cell_type": "code",
   "execution_count": null,
   "id": "initial_id",
   "metadata": {
    "ExecuteTime": {
     "end_time": "2024-04-20T18:52:01.507841Z",
     "start_time": "2024-04-20T18:52:01.126436Z"
    }
   },
   "outputs": [],
   "source": [
    "import re\n",
    "from bs4 import BeautifulSoup\n",
    "import pdftables_api\n",
    "import pandas as pd\n",
    "from WebScrapingProject.Schools.ai_utils import *\n",
    "pd.set_option('display.max_columns', None)\n",
    "pd.set_option('display.max_colwidth', None)\n",
    "TABLE = 'Tuition'"
   ]
  },
  {
   "cell_type": "code",
   "execution_count": null,
   "id": "297cb4d3-5bbf-4e01-b60f-caa083a29617",
   "metadata": {},
   "outputs": [],
   "source": [
    "c = pdftables_api.Client('6sn8m1tjswal')"
   ]
  },
  {
   "cell_type": "code",
   "execution_count": null,
   "id": "60eebbcf-5227-4ade-853a-3cd08edb6821",
   "metadata": {},
   "outputs": [],
   "source": [
    "c.csv(TUITION_PDF, 'output.csv')"
   ]
  },
  {
   "cell_type": "code",
   "execution_count": null,
   "id": "eac37dfe9baf8e5e",
   "metadata": {
    "ExecuteTime": {
     "end_time": "2024-04-03T18:02:49.719358Z",
     "start_time": "2024-04-03T18:02:49.716058Z"
    },
    "collapsed": false,
    "jupyter": {
     "outputs_hidden": false
    }
   },
   "outputs": [],
   "source": [
    "TUITION_PDF = None\n",
    "\n",
    "for file in os.listdir():\n",
    "    # Check if 'tuition' is in filename and if it's a .pdf file\n",
    "    if 'tuition' in file.lower() and file.endswith('.pdf'):\n",
    "        TUITION_PDF = file\n",
    "        break\n",
    "else:\n",
    "    raise FileNotFoundError(\"No TUITION PDF file found!\")"
   ]
  },
  {
   "cell_type": "code",
   "execution_count": null,
   "id": "20ce4b4a-628b-44ec-b5bc-a9460420d72c",
   "metadata": {
    "ExecuteTime": {
     "end_time": "2024-04-03T18:07:19.703833Z",
     "start_time": "2024-04-03T18:07:18.609595Z"
    }
   },
   "outputs": [],
   "source": [
    "df = pd.read_csv('output.csv')"
   ]
  },
  {
   "cell_type": "code",
   "execution_count": null,
   "id": "a7c311f5-7396-4145-95de-d914387e74dc",
   "metadata": {},
   "outputs": [],
   "source": [
    "csv_string = df.to_csv(index=False)\n",
    "csv_string"
   ]
  },
  {
   "cell_type": "code",
   "execution_count": null,
   "id": "803a106b-88a3-495b-b3d5-58827023c263",
   "metadata": {},
   "outputs": [],
   "source": [
    "prompt_pdf_to_csv(csv_string)"
   ]
  },
  {
   "cell_type": "code",
   "execution_count": null,
   "id": "0458a349-40f0-4b93-a989-ddc57cdb7215",
   "metadata": {},
   "outputs": [],
   "source": [
    "return gen_and_get_best_csv(extract_tuition_to_csv,\n",
    "                                y,\n",
    "                                model='gpt-4-0125-preview',\n",
    "                                temperature=0.4)"
   ]
  }
 ],
 "metadata": {
  "kernelspec": {
   "display_name": "Python 3 (ipykernel)",
   "language": "python",
   "name": "python3"
  },
  "language_info": {
   "codemirror_mode": {
    "name": "ipython",
    "version": 3
   },
   "file_extension": ".py",
   "mimetype": "text/x-python",
   "name": "python",
   "nbconvert_exporter": "python",
   "pygments_lexer": "ipython3",
   "version": "3.11.8"
  }
 },
 "nbformat": 4,
 "nbformat_minor": 5
}
