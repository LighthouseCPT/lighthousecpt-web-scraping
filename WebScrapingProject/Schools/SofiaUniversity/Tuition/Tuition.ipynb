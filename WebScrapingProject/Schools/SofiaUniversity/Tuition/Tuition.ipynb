{
 "cells": [
  {
   "cell_type": "code",
   "execution_count": 1,
   "id": "initial_id",
   "metadata": {
    "ExecuteTime": {
     "end_time": "2024-04-03T18:02:49.076810Z",
     "start_time": "2024-04-03T18:02:48.759593Z"
    }
   },
   "outputs": [],
   "source": [
    "import os\n",
    "import requests\n",
    "import tabula\n",
    "import pandas as pd\n",
    "import re\n",
    "from bs4 import BeautifulSoup\n",
    "import pandas as pd\n",
    "pd.set_option('display.max_columns', None)\n",
    "pd.set_option('display.max_colwidth', None)\n",
    "TABLE = 'Tuition'"
   ]
  },
  {
   "cell_type": "code",
   "execution_count": 2,
   "id": "eac37dfe9baf8e5e",
   "metadata": {
    "collapsed": false,
    "ExecuteTime": {
     "end_time": "2024-04-03T18:02:49.719358Z",
     "start_time": "2024-04-03T18:02:49.716058Z"
    }
   },
   "outputs": [],
   "source": [
    "TUITION_PDF = None\n",
    "\n",
    "for file in os.listdir():\n",
    "    # Check if 'tuition' is in filename and if it's a .pdf file\n",
    "    if 'tuition' in file.lower() and file.endswith('.pdf'):\n",
    "        TUITION_PDF = file\n",
    "        break\n",
    "else:\n",
    "    raise FileNotFoundError(\"No TUITION PDF file found!\")"
   ]
  },
  {
   "cell_type": "code",
   "execution_count": 6,
   "id": "20ce4b4a-628b-44ec-b5bc-a9460420d72c",
   "metadata": {
    "ExecuteTime": {
     "end_time": "2024-04-03T18:07:19.703833Z",
     "start_time": "2024-04-03T18:07:18.609595Z"
    }
   },
   "outputs": [
    {
     "name": "stderr",
     "output_type": "stream",
     "text": [
      "/Users/bilalakhtar/PycharmProjects/lighthousecpt-web-scraping/.venv/lib/python3.11/site-packages/tabula/io.py:1045: FutureWarning: errors='ignore' is deprecated and will raise in a future version. Use to_numeric without passing `errors` and catch exceptions explicitly instead\n",
      "  df[c] = pd.to_numeric(df[c], errors=\"ignore\")\n"
     ]
    }
   ],
   "source": [
    "dfs = tabula.read_pdf(TUITION_PDF, pages='all')\n",
    "df_first_table = dfs[0]\n",
    "# df_second_table = dfs[1] #Ignore this as this is certificate tuition\n",
    "# df = pd.concat([df_first_table, df_second_table])\n",
    "# df_first_table.to_csv(TABLE + '.csv', index=False)\n",
    "df_first_table.to_csv(TABLE + '_RAW.csv', index=False)"
   ]
  }
 ],
 "metadata": {
  "kernelspec": {
   "display_name": "Python 3 (ipykernel)",
   "language": "python",
   "name": "python3"
  },
  "language_info": {
   "codemirror_mode": {
    "name": "ipython",
    "version": 3
   },
   "file_extension": ".py",
   "mimetype": "text/x-python",
   "name": "python",
   "nbconvert_exporter": "python",
   "pygments_lexer": "ipython3",
   "version": "3.11.8"
  }
 },
 "nbformat": 4,
 "nbformat_minor": 5
}
